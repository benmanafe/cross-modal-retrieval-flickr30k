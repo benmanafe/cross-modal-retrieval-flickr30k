{
 "cells": [
  {
   "cell_type": "code",
   "execution_count": 1,
   "id": "d27f5ad8",
   "metadata": {
    "execution": {
     "iopub.execute_input": "2025-10-30T02:57:51.255109Z",
     "iopub.status.busy": "2025-10-30T02:57:51.254369Z",
     "iopub.status.idle": "2025-10-30T02:58:02.994648Z",
     "shell.execute_reply": "2025-10-30T02:58:02.993822Z"
    },
    "papermill": {
     "duration": 11.747766,
     "end_time": "2025-10-30T02:58:02.996162",
     "exception": false,
     "start_time": "2025-10-30T02:57:51.248396",
     "status": "completed"
    },
    "tags": []
   },
   "outputs": [
    {
     "name": "stdout",
     "output_type": "stream",
     "text": [
      "\u001b[2K     \u001b[90m━━━━━━━━━━━━━━━━━━━━━━━━━━━━━━━━━━━━━━━━\u001b[0m \u001b[32m43.7/43.7 kB\u001b[0m \u001b[31m2.0 MB/s\u001b[0m eta \u001b[36m0:00:00\u001b[0m\r\n",
      "\u001b[2K   \u001b[90m━━━━━━━━━━━━━━━━━━━━━━━━━━━━━━━━━━━━━━━━\u001b[0m \u001b[32m9.4/9.4 MB\u001b[0m \u001b[31m73.2 MB/s\u001b[0m eta \u001b[36m0:00:00\u001b[0m\r\n",
      "\u001b[2K   \u001b[90m━━━━━━━━━━━━━━━━━━━━━━━━━━━━━━━━━━━━━━━━\u001b[0m \u001b[32m3.6/3.6 MB\u001b[0m \u001b[31m89.9 MB/s\u001b[0m eta \u001b[36m0:00:00\u001b[0m\r\n",
      "\u001b[?25h"
     ]
    }
   ],
   "source": [
    "!pip install -U transformers==4.43.4 tokenizers==0.19.1 --no-deps --quiet"
   ]
  },
  {
   "cell_type": "code",
   "execution_count": 2,
   "id": "e0c9dd8c",
   "metadata": {
    "execution": {
     "iopub.execute_input": "2025-10-30T02:58:03.006469Z",
     "iopub.status.busy": "2025-10-30T02:58:03.006160Z",
     "iopub.status.idle": "2025-10-30T02:58:15.502629Z",
     "shell.execute_reply": "2025-10-30T02:58:15.501721Z"
    },
    "papermill": {
     "duration": 12.503081,
     "end_time": "2025-10-30T02:58:15.504099",
     "exception": false,
     "start_time": "2025-10-30T02:58:03.001018",
     "status": "completed"
    },
    "tags": []
   },
   "outputs": [],
   "source": [
    "import pandas as pd\n",
    "import numpy as np\n",
    "import matplotlib.pyplot as plt\n",
    "import seaborn as sns\n",
    "\n",
    "import torch\n",
    "import torch.nn as nn\n",
    "import torch.nn.functional as F\n",
    "import torch.optim as optim\n",
    "from torch.utils.data import Dataset, DataLoader\n",
    "import torchvision\n",
    "import torchvision.transforms as transforms\n",
    "import torchvision.models as models\n",
    "from transformers import AutoModel, AutoTokenizer\n",
    "\n",
    "from PIL import Image\n",
    "from tqdm import tqdm\n",
    "import shutil, time, json, os"
   ]
  },
  {
   "cell_type": "code",
   "execution_count": 3,
   "id": "45376889",
   "metadata": {
    "execution": {
     "iopub.execute_input": "2025-10-30T02:58:15.514239Z",
     "iopub.status.busy": "2025-10-30T02:58:15.513835Z",
     "iopub.status.idle": "2025-10-30T02:58:15.894342Z",
     "shell.execute_reply": "2025-10-30T02:58:15.893624Z"
    },
    "papermill": {
     "duration": 0.386842,
     "end_time": "2025-10-30T02:58:15.895705",
     "exception": false,
     "start_time": "2025-10-30T02:58:15.508863",
     "status": "completed"
    },
    "tags": []
   },
   "outputs": [
    {
     "data": {
      "text/html": [
       "<div>\n",
       "<style scoped>\n",
       "    .dataframe tbody tr th:only-of-type {\n",
       "        vertical-align: middle;\n",
       "    }\n",
       "\n",
       "    .dataframe tbody tr th {\n",
       "        vertical-align: top;\n",
       "    }\n",
       "\n",
       "    .dataframe thead th {\n",
       "        text-align: right;\n",
       "    }\n",
       "</style>\n",
       "<table border=\"1\" class=\"dataframe\">\n",
       "  <thead>\n",
       "    <tr style=\"text-align: right;\">\n",
       "      <th></th>\n",
       "      <th>image_name</th>\n",
       "      <th>comment</th>\n",
       "    </tr>\n",
       "  </thead>\n",
       "  <tbody>\n",
       "    <tr>\n",
       "      <th>0</th>\n",
       "      <td>1000092795.jpg</td>\n",
       "      <td>Two young guys with shaggy hair look at their ...</td>\n",
       "    </tr>\n",
       "    <tr>\n",
       "      <th>1</th>\n",
       "      <td>1000092795.jpg</td>\n",
       "      <td>Two young  White males are outside near many b...</td>\n",
       "    </tr>\n",
       "    <tr>\n",
       "      <th>2</th>\n",
       "      <td>1000092795.jpg</td>\n",
       "      <td>Two men in green shirts are standing in a yard .</td>\n",
       "    </tr>\n",
       "    <tr>\n",
       "      <th>3</th>\n",
       "      <td>1000092795.jpg</td>\n",
       "      <td>A man in a blue shirt standing in a garden .</td>\n",
       "    </tr>\n",
       "    <tr>\n",
       "      <th>4</th>\n",
       "      <td>1000092795.jpg</td>\n",
       "      <td>Two friends enjoy time spent together .</td>\n",
       "    </tr>\n",
       "  </tbody>\n",
       "</table>\n",
       "</div>"
      ],
      "text/plain": [
       "       image_name                                            comment\n",
       "0  1000092795.jpg  Two young guys with shaggy hair look at their ...\n",
       "1  1000092795.jpg  Two young  White males are outside near many b...\n",
       "2  1000092795.jpg   Two men in green shirts are standing in a yard .\n",
       "3  1000092795.jpg       A man in a blue shirt standing in a garden .\n",
       "4  1000092795.jpg            Two friends enjoy time spent together ."
      ]
     },
     "execution_count": 3,
     "metadata": {},
     "output_type": "execute_result"
    }
   ],
   "source": [
    "captions = pd.read_csv(\"/kaggle/input/flickr30k/captions.txt\", sep=',')[['image_name', 'comment']]\n",
    "captions.head()"
   ]
  },
  {
   "cell_type": "markdown",
   "id": "f1f596b9",
   "metadata": {
    "papermill": {
     "duration": 0.004423,
     "end_time": "2025-10-30T02:58:15.905154",
     "exception": false,
     "start_time": "2025-10-30T02:58:15.900731",
     "status": "completed"
    },
    "tags": []
   },
   "source": [
    "## 1. Data splitting"
   ]
  },
  {
   "cell_type": "code",
   "execution_count": 4,
   "id": "601ac6cc",
   "metadata": {
    "execution": {
     "iopub.execute_input": "2025-10-30T02:58:15.915065Z",
     "iopub.status.busy": "2025-10-30T02:58:15.914767Z",
     "iopub.status.idle": "2025-10-30T02:58:17.612384Z",
     "shell.execute_reply": "2025-10-30T02:58:17.611402Z"
    },
    "papermill": {
     "duration": 1.704226,
     "end_time": "2025-10-30T02:58:17.613843",
     "exception": false,
     "start_time": "2025-10-30T02:58:15.909617",
     "status": "completed"
    },
    "tags": []
   },
   "outputs": [
    {
     "name": "stdout",
     "output_type": "stream",
     "text": [
      "Karpathy defined 29000 train images\n",
      "Karpathy defined 1014 val images\n",
      "Karpathy defined 1000 test images\n",
      "\n",
      "--- Final DataFrame Sizes ---\n",
      "Train DF: 145000 rows\n",
      "Val DF:   5070 rows\n",
      "Test DF:  5000 rows\n"
     ]
    }
   ],
   "source": [
    "split_file_path = \"/kaggle/input/karpathy-split-flickr30k/dataset_flickr30k.json\"\n",
    "\n",
    "with open(split_file_path, 'r') as f:\n",
    "    split_data = json.load(f)\n",
    "    \n",
    "train_ids = []\n",
    "val_ids = []\n",
    "test_ids = []\n",
    "\n",
    "for img in split_data['images']:\n",
    "    if img['split'] == 'train':\n",
    "        train_ids.append(img['filename'])\n",
    "    elif img['split'] == 'val':\n",
    "        val_ids.append(img['filename'])\n",
    "    elif img['split'] == 'test':\n",
    "        test_ids.append(img['filename'])\n",
    "\n",
    "print(f\"Karpathy defined {len(train_ids)} train images\")\n",
    "print(f\"Karpathy defined {len(val_ids)} val images\")\n",
    "print(f\"Karpathy defined {len(test_ids)} test images\")\n",
    "\n",
    "train_df = captions[captions['image_name'].isin(train_ids)]\n",
    "val_df = captions[captions['image_name'].isin(val_ids)]\n",
    "test_df = captions[captions['image_name'].isin(test_ids)]\n",
    "\n",
    "print(\"\\n--- Final DataFrame Sizes ---\")\n",
    "print(f\"Train DF: {len(train_df)} rows\")\n",
    "print(f\"Val DF:   {len(val_df)} rows\")\n",
    "print(f\"Test DF:  {len(test_df)} rows\")"
   ]
  },
  {
   "cell_type": "markdown",
   "id": "e0559e88",
   "metadata": {
    "papermill": {
     "duration": 0.005221,
     "end_time": "2025-10-30T02:58:17.624121",
     "exception": false,
     "start_time": "2025-10-30T02:58:17.618900",
     "status": "completed"
    },
    "tags": []
   },
   "source": [
    "## 2. Quick EDA"
   ]
  },
  {
   "cell_type": "code",
   "execution_count": 5,
   "id": "5985073f",
   "metadata": {
    "execution": {
     "iopub.execute_input": "2025-10-30T02:58:17.634404Z",
     "iopub.status.busy": "2025-10-30T02:58:17.633786Z",
     "iopub.status.idle": "2025-10-30T02:58:19.063193Z",
     "shell.execute_reply": "2025-10-30T02:58:19.062446Z"
    },
    "papermill": {
     "duration": 1.435819,
     "end_time": "2025-10-30T02:58:19.064614",
     "exception": false,
     "start_time": "2025-10-30T02:58:17.628795",
     "status": "completed"
    },
    "tags": []
   },
   "outputs": [
    {
     "name": "stdout",
     "output_type": "stream",
     "text": [
      "0    83\n",
      "1    53\n",
      "2    48\n",
      "3    44\n",
      "4    39\n",
      "Name: comment_length, dtype: int64\n",
      "--------------------------------------------------\n",
      "count    145000.000000\n",
      "mean         64.144207\n",
      "std          26.670841\n",
      "min           7.000000\n",
      "25%          46.000000\n",
      "50%          59.000000\n",
      "75%          76.000000\n",
      "max         403.000000\n",
      "Name: comment_length, dtype: float64\n"
     ]
    },
    {
     "name": "stderr",
     "output_type": "stream",
     "text": [
      "/tmp/ipykernel_19/1777625282.py:4: SettingWithCopyWarning: \n",
      "A value is trying to be set on a copy of a slice from a DataFrame.\n",
      "Try using .loc[row_indexer,col_indexer] = value instead\n",
      "\n",
      "See the caveats in the documentation: https://pandas.pydata.org/pandas-docs/stable/user_guide/indexing.html#returning-a-view-versus-a-copy\n",
      "  train_df['comment_length'] = train_df['comment'].apply(calculate_comment_length)\n",
      "/usr/local/lib/python3.11/dist-packages/seaborn/_oldcore.py:1119: FutureWarning: use_inf_as_na option is deprecated and will be removed in a future version. Convert inf values to NaN before operating instead.\n",
      "  with pd.option_context('mode.use_inf_as_na', True):\n"
     ]
    },
    {
     "data": {
      "image/png": "[encoded data removed]",
      "text/plain": [
       "<Figure size 1200x700 with 1 Axes>"
      ]
     },
     "metadata": {},
     "output_type": "display_data"
    }
   ],
   "source": [
    "def calculate_comment_length(comment):\n",
    "    return len(comment)\n",
    "\n",
    "train_df['comment_length'] = train_df['comment'].apply(calculate_comment_length)\n",
    "print(train_df['comment_length'].head())\n",
    "print(\"-\"*50)\n",
    "print(train_df['comment_length'].describe())\n",
    "\n",
    "plt.figure(figsize=(12, 7))\n",
    "sns.histplot(train_df['comment_length'], kde=True)\n",
    "plt.xlabel(\"Comment length\")\n",
    "plt.title(\"Comment length distribution\")\n",
    "plt.show()"
   ]
  },
  {
   "cell_type": "markdown",
   "id": "5c0dfdd0",
   "metadata": {
    "papermill": {
     "duration": 0.004907,
     "end_time": "2025-10-30T02:58:19.075268",
     "exception": false,
     "start_time": "2025-10-30T02:58:19.070361",
     "status": "completed"
    },
    "tags": []
   },
   "source": [
    "The plot is right skewed. In order to find the sweet spot of getting the minimum length of comment while also getting the most information out of it, we use this rule-of-thumb formula:\n",
    "\n",
    "> mean + 1 * std = $64 + 26.6 \\approx 90.6$ (This usually covers ~84% of the data)\n",
    ">\n",
    "> mean + 2 * std = $64 + (2 \\times 26.6) \\approx 117.3$ (This usually covers ~97.7% of the data)\n",
    "\n",
    "Since we use MiniLM, and the most computationally efficient sequence lengths for the model are powers of 2 (or multiples of 32/64), we will use 128 as it will cover ~98% of the data."
   ]
  },
  {
   "cell_type": "markdown",
   "id": "8096ba66",
   "metadata": {
    "papermill": {
     "duration": 0.004743,
     "end_time": "2025-10-30T02:58:19.085002",
     "exception": false,
     "start_time": "2025-10-30T02:58:19.080259",
     "status": "completed"
    },
    "tags": []
   },
   "source": [
    "## 3. Dataset wrapper building"
   ]
  },
  {
   "cell_type": "code",
   "execution_count": 6,
   "id": "72a33bc7",
   "metadata": {
    "execution": {
     "iopub.execute_input": "2025-10-30T02:58:19.096019Z",
     "iopub.status.busy": "2025-10-30T02:58:19.095733Z",
     "iopub.status.idle": "2025-10-30T02:58:19.101708Z",
     "shell.execute_reply": "2025-10-30T02:58:19.101196Z"
    },
    "papermill": {
     "duration": 0.012733,
     "end_time": "2025-10-30T02:58:19.102770",
     "exception": false,
     "start_time": "2025-10-30T02:58:19.090037",
     "status": "completed"
    },
    "tags": []
   },
   "outputs": [],
   "source": [
    "class Flickr30k_Dataset(Dataset):\n",
    "    def __init__(self, image_root, captions_df, tokenizer, transform=None):\n",
    "        self.image_root = image_root\n",
    "        self.captions = self._load_captions(captions_df)\n",
    "        self.tokenizer = tokenizer\n",
    "        self.transform = transform\n",
    "        \n",
    "    def _load_captions(self, captions_df):\n",
    "        data = []\n",
    "        for row in captions_df.itertuples(index=False):\n",
    "            image_name = row.image_name\n",
    "            caption = row.comment\n",
    "            image_path = os.path.join(self.image_root, image_name)\n",
    "            data.append((image_path, caption))\n",
    "        return data\n",
    "\n",
    "    def __getitem__(self, idx):\n",
    "        image_path, caption = self.captions[idx]\n",
    "        image = Image.open(image_path).convert(\"RGB\")\n",
    "        \n",
    "        if self.transform:\n",
    "            image = self.transform(image)\n",
    "\n",
    "        text_inputs = self.tokenizer(\n",
    "            caption,\n",
    "            padding = \"max_length\",\n",
    "            truncation = True,\n",
    "            max_length = 128,\n",
    "            return_tensors = \"pt\"\n",
    "        )\n",
    "\n",
    "        return image, text_inputs['input_ids'].squeeze(0), text_inputs['attention_mask'].squeeze(0)\n",
    "\n",
    "    def __len__(self):\n",
    "        return len(self.captions)"
   ]
  },
  {
   "cell_type": "markdown",
   "id": "2a1121c6",
   "metadata": {
    "papermill": {
     "duration": 0.005059,
     "end_time": "2025-10-30T02:58:19.112701",
     "exception": false,
     "start_time": "2025-10-30T02:58:19.107642",
     "status": "completed"
    },
    "tags": []
   },
   "source": [
    "## 4. Multi-Modal Model building"
   ]
  },
  {
   "cell_type": "markdown",
   "id": "998b0d17",
   "metadata": {
    "papermill": {
     "duration": 0.004618,
     "end_time": "2025-10-30T02:58:19.122041",
     "exception": false,
     "start_time": "2025-10-30T02:58:19.117423",
     "status": "completed"
    },
    "tags": []
   },
   "source": [
    "### 4.1 Image model encoder"
   ]
  },
  {
   "cell_type": "code",
   "execution_count": 7,
   "id": "7ab1bd84",
   "metadata": {
    "execution": {
     "iopub.execute_input": "2025-10-30T02:58:19.132805Z",
     "iopub.status.busy": "2025-10-30T02:58:19.132576Z",
     "iopub.status.idle": "2025-10-30T02:58:19.138098Z",
     "shell.execute_reply": "2025-10-30T02:58:19.137496Z"
    },
    "papermill": {
     "duration": 0.01229,
     "end_time": "2025-10-30T02:58:19.139224",
     "exception": false,
     "start_time": "2025-10-30T02:58:19.126934",
     "status": "completed"
    },
    "tags": []
   },
   "outputs": [],
   "source": [
    "class ImageEncoder(nn.Module):\n",
    "    def __init__(self, embed_dim=256):\n",
    "        super(ImageEncoder, self).__init__()\n",
    "        resnet = models.efficientnet_b0(pretrained=True)\n",
    "    \n",
    "        modules = list(resnet.children())[:-1]\n",
    "        self.resnet = nn.Sequential(*modules)\n",
    "\n",
    "        for param in self.resnet.parameters():\n",
    "            param.requires_grad = False\n",
    "\n",
    "        for param in self.resnet[0][7].parameters():\n",
    "            param.requires_grad = True\n",
    "\n",
    "        self.dropout = nn.Dropout(p=0.5)\n",
    "        \n",
    "        self.fc = nn.Linear(1280, embed_dim)\n",
    "\n",
    "    def forward(self, images):\n",
    "        features = self.resnet(images) # (Batch, 512, 1, 1)\n",
    "        features = features.view(features.size(0), -1) # flatten to (Batch, 512)\n",
    "        features = self.dropout(features)\n",
    "        embeddings = self.fc(features) # project to (Batch, embed_dim)\n",
    "        embeddings = F.normalize(embeddings, dim=-1)\n",
    "        return embeddings"
   ]
  },
  {
   "cell_type": "markdown",
   "id": "b3f06ded",
   "metadata": {
    "papermill": {
     "duration": 0.005329,
     "end_time": "2025-10-30T02:58:19.150180",
     "exception": false,
     "start_time": "2025-10-30T02:58:19.144851",
     "status": "completed"
    },
    "tags": []
   },
   "source": [
    "### 4.2 Text model encoder"
   ]
  },
  {
   "cell_type": "code",
   "execution_count": 8,
   "id": "07056e3a",
   "metadata": {
    "execution": {
     "iopub.execute_input": "2025-10-30T02:58:19.161684Z",
     "iopub.status.busy": "2025-10-30T02:58:19.161118Z",
     "iopub.status.idle": "2025-10-30T02:58:19.167501Z",
     "shell.execute_reply": "2025-10-30T02:58:19.166940Z"
    },
    "papermill": {
     "duration": 0.013137,
     "end_time": "2025-10-30T02:58:19.168518",
     "exception": false,
     "start_time": "2025-10-30T02:58:19.155381",
     "status": "completed"
    },
    "tags": []
   },
   "outputs": [],
   "source": [
    "class TextEncoder(nn.Module):\n",
    "    def __init__(self, embed_dim=256):\n",
    "        super(TextEncoder, self).__init__()\n",
    "        self.transformer = AutoModel.from_pretrained(\"sentence-transformers/all-MiniLM-L12-v2\")\n",
    "\n",
    "        for param in self.transformer.parameters():\n",
    "            param.requires_grad = False\n",
    "\n",
    "        for param in self.transformer.encoder.layer[11].parameters():\n",
    "            param.requires_grad = True\n",
    "\n",
    "        hidden_size = self.transformer.config.hidden_size\n",
    "        self.dropout = nn.Dropout(p=0.5)\n",
    "        self.fc = nn.Linear(hidden_size, embed_dim)\n",
    "\n",
    "    def forward(self, input_ids, attention_mask):\n",
    "        outputs = self.transformer(\n",
    "            input_ids=input_ids,\n",
    "            attention_mask=attention_mask\n",
    "        )\n",
    "        # text_features = outputs.last_hidden_state[:, 0, :] # CLS token\n",
    "        token_embeddings = outputs.last_hidden_state\n",
    "        \n",
    "        expanded_mask = attention_mask.unsqueeze(-1).expand(token_embeddings.size()).float()\n",
    "        masked_embeddings = token_embeddings * expanded_mask\n",
    "        sum_embeddings = torch.sum(masked_embeddings, 1)\n",
    "        sum_mask = torch.sum(expanded_mask, 1)\n",
    "        sum_mask = torch.clamp(sum_mask, min=1e-9)\n",
    "        mean_pooled_features = sum_embeddings / sum_mask\n",
    "        mean_pooled_features = self.dropout(mean_pooled_features)\n",
    "        \n",
    "        # embeddings = self.fc(text_features)\n",
    "        embeddings = self.fc(mean_pooled_features)\n",
    "        embeddings = F.normalize(embeddings, dim=-1)\n",
    "        return embeddings"
   ]
  },
  {
   "cell_type": "markdown",
   "id": "5f54d42a",
   "metadata": {
    "papermill": {
     "duration": 0.004768,
     "end_time": "2025-10-30T02:58:19.178065",
     "exception": false,
     "start_time": "2025-10-30T02:58:19.173297",
     "status": "completed"
    },
    "tags": []
   },
   "source": [
    "### 4.3 Combining both encoders"
   ]
  },
  {
   "cell_type": "code",
   "execution_count": 9,
   "id": "78531c06",
   "metadata": {
    "execution": {
     "iopub.execute_input": "2025-10-30T02:58:19.188492Z",
     "iopub.status.busy": "2025-10-30T02:58:19.188277Z",
     "iopub.status.idle": "2025-10-30T02:58:19.192626Z",
     "shell.execute_reply": "2025-10-30T02:58:19.192173Z"
    },
    "papermill": {
     "duration": 0.010939,
     "end_time": "2025-10-30T02:58:19.193769",
     "exception": false,
     "start_time": "2025-10-30T02:58:19.182830",
     "status": "completed"
    },
    "tags": []
   },
   "outputs": [],
   "source": [
    "class CrossModalModel(nn.Module):\n",
    "    def __init__(self, embed_dim=512):\n",
    "        super(CrossModalModel, self).__init__()\n",
    "        self.image_encoder = ImageEncoder(embed_dim)\n",
    "        self.text_encoder = TextEncoder(embed_dim)\n",
    "\n",
    "        self.logit_scale = nn.Parameter(torch.ones([]) * np.log(1/0.07))\n",
    "\n",
    "    def forward(self, images, input_ids, attention_mask):\n",
    "        image_embeds = self.image_encoder(images)\n",
    "        text_embeds = self.text_encoder(input_ids, attention_mask)\n",
    "        return image_embeds, text_embeds"
   ]
  },
  {
   "cell_type": "markdown",
   "id": "1198e988",
   "metadata": {
    "papermill": {
     "duration": 0.004565,
     "end_time": "2025-10-30T02:58:19.203433",
     "exception": false,
     "start_time": "2025-10-30T02:58:19.198868",
     "status": "completed"
    },
    "tags": []
   },
   "source": [
    "### 5. Loss function"
   ]
  },
  {
   "cell_type": "code",
   "execution_count": 10,
   "id": "bf36e957",
   "metadata": {
    "execution": {
     "iopub.execute_input": "2025-10-30T02:58:19.214369Z",
     "iopub.status.busy": "2025-10-30T02:58:19.214171Z",
     "iopub.status.idle": "2025-10-30T02:58:19.218312Z",
     "shell.execute_reply": "2025-10-30T02:58:19.217753Z"
    },
    "papermill": {
     "duration": 0.010597,
     "end_time": "2025-10-30T02:58:19.219333",
     "exception": false,
     "start_time": "2025-10-30T02:58:19.208736",
     "status": "completed"
    },
    "tags": []
   },
   "outputs": [],
   "source": [
    "def clip_loss(image_embeds, text_embeds, logit_scale):\n",
    "    \"\"\"\n",
    "    temperature: Controls how sharply the model distinguishes pairs (lower → sharper).\n",
    "    \"\"\"\n",
    "    # Normalize (should already be normalized, but for safety)\n",
    "    # image_embeds = nn.functional.normalize(image_embeds, dim=-1)\n",
    "    # text_embeds = nn.functional.normalize(text_embeds, dim=-1)\n",
    "    \n",
    "    # Compute similarity matrix (batch_size x batch_size)\n",
    "    # logits = image_embeds @ text_embeds.t() / temperature # cosine_similarity/temperature\n",
    "\n",
    "    scale = logit_scale.exp()\n",
    "    logits = (image_embeds @ text_embeds.t()) * scale\n",
    "\n",
    "    # Targets: correct pairs are along the diagonal\n",
    "    labels = torch.arange(len(logits)).to(logits.device)\n",
    "\n",
    "    # Cross-entropy loss both ways (image→text and text→image)\n",
    "    loss_image_text = F.cross_entropy(logits, labels)\n",
    "    loss_text_image = F.cross_entropy(logits.t(), labels)\n",
    "\n",
    "    # Final loss is average\n",
    "    return (loss_image_text + loss_text_image) / 2"
   ]
  },
  {
   "cell_type": "markdown",
   "id": "eae87df9",
   "metadata": {
    "papermill": {
     "duration": 0.004797,
     "end_time": "2025-10-30T02:58:19.229042",
     "exception": false,
     "start_time": "2025-10-30T02:58:19.224245",
     "status": "completed"
    },
    "tags": []
   },
   "source": [
    "## 6. Data augmentation & preperation"
   ]
  },
  {
   "cell_type": "code",
   "execution_count": 11,
   "id": "7affefe6",
   "metadata": {
    "execution": {
     "iopub.execute_input": "2025-10-30T02:58:19.239686Z",
     "iopub.status.busy": "2025-10-30T02:58:19.239480Z",
     "iopub.status.idle": "2025-10-30T02:58:19.244214Z",
     "shell.execute_reply": "2025-10-30T02:58:19.243628Z"
    },
    "papermill": {
     "duration": 0.011338,
     "end_time": "2025-10-30T02:58:19.245294",
     "exception": false,
     "start_time": "2025-10-30T02:58:19.233956",
     "status": "completed"
    },
    "tags": []
   },
   "outputs": [],
   "source": [
    "train_transform = transforms.Compose([\n",
    "    transforms.Resize(256),\n",
    "    transforms.RandomCrop(224),\n",
    "    transforms.RandomHorizontalFlip(),\n",
    "    transforms.ColorJitter(brightness=0.1, contrast=0.1, saturation=0.1, hue=0.1),\n",
    "    transforms.ToTensor(),\n",
    "    transforms.Normalize(\n",
    "        mean=[0.485, 0.456, 0.406],\n",
    "        std=[0.229, 0.224, 0.225]\n",
    "    ),\n",
    "])\n",
    "\n",
    "val_test_transform = transforms.Compose([\n",
    "    transforms.Resize(256),\n",
    "    transforms.CenterCrop(224),\n",
    "    transforms.ToTensor(),\n",
    "    transforms.Normalize(\n",
    "        mean=[0.485, 0.456, 0.406],\n",
    "        std=[0.229, 0.224, 0.225]\n",
    "    ),\n",
    "])"
   ]
  },
  {
   "cell_type": "code",
   "execution_count": 12,
   "id": "4e374fd5",
   "metadata": {
    "execution": {
     "iopub.execute_input": "2025-10-30T02:58:19.255451Z",
     "iopub.status.busy": "2025-10-30T02:58:19.255235Z",
     "iopub.status.idle": "2025-10-30T02:58:20.441165Z",
     "shell.execute_reply": "2025-10-30T02:58:20.440461Z"
    },
    "papermill": {
     "duration": 1.192523,
     "end_time": "2025-10-30T02:58:20.442559",
     "exception": false,
     "start_time": "2025-10-30T02:58:19.250036",
     "status": "completed"
    },
    "tags": []
   },
   "outputs": [
    {
     "data": {
      "application/vnd.jupyter.widget-view+json": {
       "model_id": "fcd90f233b8e4cbd85865ef138f27dd2",
       "version_major": 2,
       "version_minor": 0
      },
      "text/plain": [
       "tokenizer_config.json:   0%|          | 0.00/352 [00:00<?, ?B/s]"
      ]
     },
     "metadata": {},
     "output_type": "display_data"
    },
    {
     "data": {
      "application/vnd.jupyter.widget-view+json": {
       "model_id": "1f1b40bb73394ccc99197908ab2043a9",
       "version_major": 2,
       "version_minor": 0
      },
      "text/plain": [
       "vocab.txt: 0.00B [00:00, ?B/s]"
      ]
     },
     "metadata": {},
     "output_type": "display_data"
    },
    {
     "data": {
      "application/vnd.jupyter.widget-view+json": {
       "model_id": "d62c3103f9ed465c8784b96ec22543ba",
       "version_major": 2,
       "version_minor": 0
      },
      "text/plain": [
       "tokenizer.json: 0.00B [00:00, ?B/s]"
      ]
     },
     "metadata": {},
     "output_type": "display_data"
    },
    {
     "data": {
      "application/vnd.jupyter.widget-view+json": {
       "model_id": "691d38e531c74e85a4690224e1bca586",
       "version_major": 2,
       "version_minor": 0
      },
      "text/plain": [
       "special_tokens_map.json:   0%|          | 0.00/112 [00:00<?, ?B/s]"
      ]
     },
     "metadata": {},
     "output_type": "display_data"
    }
   ],
   "source": [
    "IMG_ROOT = \"/kaggle/input/flickr30k/flickr30k_images\"\n",
    "TOKENIZER_NAME = \"sentence-transformers/all-MiniLM-L12-v2\"\n",
    "\n",
    "tokenizer = AutoTokenizer.from_pretrained(TOKENIZER_NAME)\n",
    "\n",
    "train_dataset = Flickr30k_Dataset(\n",
    "    image_root=IMG_ROOT, \n",
    "    captions_df=train_df, \n",
    "    tokenizer=tokenizer,\n",
    "    transform=train_transform\n",
    ")\n",
    "val_dataset = Flickr30k_Dataset(\n",
    "    image_root=IMG_ROOT, \n",
    "    captions_df=val_df, \n",
    "    tokenizer=tokenizer, \n",
    "    transform=val_test_transform\n",
    ")\n",
    "test_dataset = Flickr30k_Dataset(\n",
    "    image_root=IMG_ROOT, \n",
    "    captions_df=test_df,\n",
    "    tokenizer=tokenizer, \n",
    "    transform=val_test_transform\n",
    ")\n",
    "\n",
    "\n",
    "train_loader = DataLoader(\n",
    "    train_dataset,\n",
    "    batch_size=64,\n",
    "    shuffle=True,\n",
    "    num_workers=4,\n",
    "    pin_memory=True\n",
    ")\n",
    "val_loader = DataLoader(\n",
    "    val_dataset,\n",
    "    batch_size=64,\n",
    "    shuffle=False,\n",
    "    num_workers=4,\n",
    "    pin_memory=True\n",
    ")\n",
    "test_loader = DataLoader(\n",
    "    test_dataset,\n",
    "    batch_size=64,\n",
    "    shuffle=False,\n",
    "    num_workers=4,\n",
    "    pin_memory=True\n",
    ")"
   ]
  },
  {
   "cell_type": "markdown",
   "id": "f988ed8d",
   "metadata": {
    "papermill": {
     "duration": 0.005824,
     "end_time": "2025-10-30T02:58:20.454246",
     "exception": false,
     "start_time": "2025-10-30T02:58:20.448422",
     "status": "completed"
    },
    "tags": []
   },
   "source": [
    "## 7. Optimizer & model training"
   ]
  },
  {
   "cell_type": "code",
   "execution_count": 13,
   "id": "b3cbb487",
   "metadata": {
    "execution": {
     "iopub.execute_input": "2025-10-30T02:58:20.466523Z",
     "iopub.status.busy": "2025-10-30T02:58:20.465812Z",
     "iopub.status.idle": "2025-10-30T02:58:23.594477Z",
     "shell.execute_reply": "2025-10-30T02:58:23.593768Z"
    },
    "papermill": {
     "duration": 3.136122,
     "end_time": "2025-10-30T02:58:23.595824",
     "exception": false,
     "start_time": "2025-10-30T02:58:20.459702",
     "status": "completed"
    },
    "tags": []
   },
   "outputs": [
    {
     "name": "stderr",
     "output_type": "stream",
     "text": [
      "/usr/local/lib/python3.11/dist-packages/torchvision/models/_utils.py:208: UserWarning: The parameter 'pretrained' is deprecated since 0.13 and may be removed in the future, please use 'weights' instead.\n",
      "  warnings.warn(\n",
      "/usr/local/lib/python3.11/dist-packages/torchvision/models/_utils.py:223: UserWarning: Arguments other than a weight enum or `None` for 'weights' are deprecated since 0.13 and may be removed in the future. The current behavior is equivalent to passing `weights=EfficientNet_B0_Weights.IMAGENET1K_V1`. You can also use `weights=EfficientNet_B0_Weights.DEFAULT` to get the most up-to-date weights.\n",
      "  warnings.warn(msg)\n",
      "Downloading: \"https://download.pytorch.org/models/efficientnet_b0_rwightman-7f5810bc.pth\" to /root/.cache/torch/hub/checkpoints/efficientnet_b0_rwightman-7f5810bc.pth\n",
      "100%|██████████| 20.5M/20.5M [00:00<00:00, 125MB/s] \n"
     ]
    },
    {
     "data": {
      "application/vnd.jupyter.widget-view+json": {
       "model_id": "632938ebbb6042b4abfff4af5c5157a0",
       "version_major": 2,
       "version_minor": 0
      },
      "text/plain": [
       "config.json:   0%|          | 0.00/615 [00:00<?, ?B/s]"
      ]
     },
     "metadata": {},
     "output_type": "display_data"
    },
    {
     "data": {
      "application/vnd.jupyter.widget-view+json": {
       "model_id": "e4d448057ead4ae99a888882e45665a0",
       "version_major": 2,
       "version_minor": 0
      },
      "text/plain": [
       "model.safetensors:   0%|          | 0.00/133M [00:00<?, ?B/s]"
      ]
     },
     "metadata": {},
     "output_type": "display_data"
    }
   ],
   "source": [
    "device = torch.device(\"cuda\" if torch.cuda.is_available() else \"cpu\")\n",
    "model = CrossModalModel(embed_dim=512).to(device)\n",
    "\n",
    "optimizer = optim.AdamW(model.parameters(), lr=1e-4, weight_decay=1e-3)"
   ]
  },
  {
   "cell_type": "code",
   "execution_count": 14,
   "id": "ff1073bb",
   "metadata": {
    "execution": {
     "iopub.execute_input": "2025-10-30T02:58:23.610577Z",
     "iopub.status.busy": "2025-10-30T02:58:23.610155Z",
     "iopub.status.idle": "2025-10-30T02:58:23.620593Z",
     "shell.execute_reply": "2025-10-30T02:58:23.619957Z"
    },
    "papermill": {
     "duration": 0.019528,
     "end_time": "2025-10-30T02:58:23.622194",
     "exception": false,
     "start_time": "2025-10-30T02:58:23.602666",
     "status": "completed"
    },
    "tags": []
   },
   "outputs": [],
   "source": [
    "EPOCHS = 5\n",
    "\n",
    "def train_model(model, train_loader, val_loader, epochs, optimizer, loss_fn, device):\n",
    "    save_path = \"/kaggle/working/checkpoints\"\n",
    "    os.makedirs(save_path, exist_ok=True)\n",
    "    for epoch in range(epochs):\n",
    "        model.train()\n",
    "        total_train_loss = 0.0\n",
    "\n",
    "        train_progress_bar = tqdm(\n",
    "            train_loader, \n",
    "            desc=f\"Epoch [{epoch+1}/{epochs}] Training\", \n",
    "            leave=False\n",
    "        )\n",
    "\n",
    "        for i, (images, input_ids, attention_mask) in enumerate(train_progress_bar):\n",
    "            images = images.to(device)\n",
    "            input_ids = input_ids.to(device)\n",
    "            attention_mask = attention_mask.to(device)\n",
    "\n",
    "            optimizer.zero_grad()\n",
    "            img_embeds, txt_embeds = model(images, input_ids, attention_mask)\n",
    "            loss = loss_fn(img_embeds, txt_embeds, model.logit_scale)\n",
    "            loss.backward()\n",
    "            optimizer.step()\n",
    "\n",
    "            with torch.no_grad():\n",
    "                model.logit_scale.clamp_(0, np.log(100))\n",
    "\n",
    "            total_train_loss += loss.item()\n",
    "            \n",
    "            running_avg_loss = total_train_loss / (i + 1)\n",
    "            train_progress_bar.set_postfix(train_loss=f\"{running_avg_loss:.4f}\")\n",
    "        \n",
    "        avg_train_loss = total_train_loss / len(train_loader)\n",
    "\n",
    "        model.eval()\n",
    "        total_val_loss = 0.0\n",
    "        all_img_embeds, all_txt_embeds = [], []\n",
    "        \n",
    "        with torch.no_grad():\n",
    "            val_progress_bar = tqdm(\n",
    "                val_loader,\n",
    "                desc=f\"Epoch [{epoch+1}/{epochs}] Validation\",\n",
    "                leave=False\n",
    "            )\n",
    "            \n",
    "            for i, (images, input_ids, attention_mask) in enumerate(val_progress_bar):\n",
    "                images = images.to(device)\n",
    "                input_ids = input_ids.to(device)\n",
    "                attention_mask = attention_mask.to(device)\n",
    "\n",
    "                img_embeds, txt_embeds = model(images, input_ids, attention_mask)\n",
    "                loss = loss_fn(img_embeds, txt_embeds, model.logit_scale)\n",
    "                total_val_loss += loss.item()\n",
    "\n",
    "                all_img_embeds.append(img_embeds.cpu())\n",
    "                all_txt_embeds.append(txt_embeds.cpu())\n",
    "                \n",
    "                running_avg_val_loss = total_val_loss / (i + 1)\n",
    "                val_progress_bar.set_postfix(val_loss=f\"{running_avg_val_loss:.4f}\")\n",
    "\n",
    "        avg_val_loss = total_val_loss / len(val_loader)\n",
    "        \n",
    "        print(f\"Epoch [{epoch+1}/{epochs}] -> Train Loss: {avg_train_loss:.4f} | Val Loss: {avg_val_loss:.4f}\")\n",
    "\n",
    "        model_save_path = os.path.join(save_path, f\"model_epoch_{epoch+1}.pt\")\n",
    "        torch.save(model.state_dict(), model_save_path)\n",
    "\n",
    "        img_embeds_tensor = torch.cat(all_img_embeds, dim=0)\n",
    "        txt_embeds_tensor = torch.cat(all_txt_embeds, dim=0)\n",
    "        torch.save(img_embeds_tensor, os.path.join(save_path, f\"img_embeds_epoch_{epoch+1}.pt\"))\n",
    "        torch.save(txt_embeds_tensor, os.path.join(save_path, f\"txt_embeds_epoch_{epoch+1}.pt\"))\n",
    "\n",
    "    timestamp = time.strftime(\"%Y%m%d_%H%M%S\")\n",
    "    shutil.make_archive(f\"/kaggle/working/checkpoints_{timestamp}\", 'zip', save_path)\n",
    "    print(f\"Zipped checkpoints_{timestamp}.zip for download\")"
   ]
  },
  {
   "cell_type": "code",
   "execution_count": 15,
   "id": "dc1baca0",
   "metadata": {
    "execution": {
     "iopub.execute_input": "2025-10-30T02:58:23.639049Z",
     "iopub.status.busy": "2025-10-30T02:58:23.638742Z",
     "iopub.status.idle": "2025-10-30T04:07:36.664551Z",
     "shell.execute_reply": "2025-10-30T04:07:36.663605Z"
    },
    "papermill": {
     "duration": 4153.96777,
     "end_time": "2025-10-30T04:07:37.599486",
     "exception": false,
     "start_time": "2025-10-30T02:58:23.631716",
     "status": "completed"
    },
    "tags": []
   },
   "outputs": [
    {
     "name": "stderr",
     "output_type": "stream",
     "text": [
      "                                                                                        \r"
     ]
    },
    {
     "name": "stdout",
     "output_type": "stream",
     "text": [
      "Epoch [1/5] -> Train Loss: 2.2678 | Val Loss: 2.4296\n"
     ]
    },
    {
     "name": "stderr",
     "output_type": "stream",
     "text": [
      "                                                                                        \r"
     ]
    },
    {
     "name": "stdout",
     "output_type": "stream",
     "text": [
      "Epoch [2/5] -> Train Loss: 1.7076 | Val Loss: 2.3588\n"
     ]
    },
    {
     "name": "stderr",
     "output_type": "stream",
     "text": [
      "                                                                                        \r"
     ]
    },
    {
     "name": "stdout",
     "output_type": "stream",
     "text": [
      "Epoch [3/5] -> Train Loss: 1.5316 | Val Loss: 2.3338\n"
     ]
    },
    {
     "name": "stderr",
     "output_type": "stream",
     "text": [
      "                                                                                        \r"
     ]
    },
    {
     "name": "stdout",
     "output_type": "stream",
     "text": [
      "Epoch [4/5] -> Train Loss: 1.4143 | Val Loss: 2.3195\n"
     ]
    },
    {
     "name": "stderr",
     "output_type": "stream",
     "text": [
      "                                                                                        \r"
     ]
    },
    {
     "name": "stdout",
     "output_type": "stream",
     "text": [
      "Epoch [5/5] -> Train Loss: 1.3342 | Val Loss: 2.3080\n",
      "Zipped checkpoints_20251030_040653.zip for download\n"
     ]
    }
   ],
   "source": [
    "train_model(model, train_loader, val_loader, EPOCHS, optimizer, clip_loss, device)"
   ]
  },
  {
   "cell_type": "markdown",
   "id": "4c97aa03",
   "metadata": {
    "papermill": {
     "duration": 0.983135,
     "end_time": "2025-10-30T04:07:39.627275",
     "exception": false,
     "start_time": "2025-10-30T04:07:38.644140",
     "status": "completed"
    },
    "tags": []
   },
   "source": [
    "## 8. Model evaluation"
   ]
  },
  {
   "cell_type": "code",
   "execution_count": 16,
   "id": "25c39f65",
   "metadata": {
    "execution": {
     "iopub.execute_input": "2025-10-30T04:07:41.604477Z",
     "iopub.status.busy": "2025-10-30T04:07:41.604172Z",
     "iopub.status.idle": "2025-10-30T04:07:43.822133Z",
     "shell.execute_reply": "2025-10-30T04:07:43.821243Z"
    },
    "papermill": {
     "duration": 3.16167,
     "end_time": "2025-10-30T04:07:43.823657",
     "exception": false,
     "start_time": "2025-10-30T04:07:40.661987",
     "status": "completed"
    },
    "tags": []
   },
   "outputs": [
    {
     "name": "stdout",
     "output_type": "stream",
     "text": [
      "Similarity matrix shape: torch.Size([64, 64])\n"
     ]
    },
    {
     "data": {
      "image/png": "[encoded data removed]",
      "text/plain": [
       "<Figure size 600x500 with 2 Axes>"
      ]
     },
     "metadata": {},
     "output_type": "display_data"
    }
   ],
   "source": [
    "model.eval()\n",
    "\n",
    "images, input_ids, attention_mask = next(iter(val_loader))\n",
    "images = images.to(device)\n",
    "input_ids = input_ids.to(device)\n",
    "attention_mask = attention_mask.to(device)\n",
    "\n",
    "with torch.no_grad():\n",
    "    img_embeds, txt_embeds = model(images, input_ids, attention_mask)\n",
    "\n",
    "# shape: (batch_size, batch_size)\n",
    "sim_matrix = torch.matmul(img_embeds, txt_embeds.T)\n",
    "\n",
    "print(\"Similarity matrix shape:\", sim_matrix.shape)\n",
    "\n",
    "sim_np = sim_matrix.cpu().numpy()\n",
    "\n",
    "plt.figure(figsize=(6,5))\n",
    "sns.heatmap(sim_np, annot=False, cmap=\"viridis\")\n",
    "plt.title(\"Image–Text Cosine Similarity Matrix\")\n",
    "plt.xlabel(\"Text index\")\n",
    "plt.ylabel(\"Image index\")\n",
    "plt.show()"
   ]
  },
  {
   "cell_type": "code",
   "execution_count": null,
   "id": "dfc14675",
   "metadata": {
    "papermill": {
     "duration": 1.0274,
     "end_time": "2025-10-30T04:07:45.896942",
     "exception": false,
     "start_time": "2025-10-30T04:07:44.869542",
     "status": "completed"
    },
    "tags": []
   },
   "outputs": [],
   "source": []
  }
 ],
 "metadata": {
  "kaggle": {
   "accelerator": "nvidiaTeslaT4",
   "dataSources": [
    {
     "datasetId": 2808179,
     "sourceId": 4845244,
     "sourceType": "datasetVersion"
    },
    {
     "datasetId": 8599733,
     "sourceId": 13541809,
     "sourceType": "datasetVersion"
    }
   ],
   "dockerImageVersionId": 31153,
   "isGpuEnabled": true,
   "isInternetEnabled": true,
   "language": "python",
   "sourceType": "notebook"
  },
  "kernelspec": {
   "display_name": "Python 3",
   "language": "python",
   "name": "python3"
  },
  "language_info": {
   "codemirror_mode": {
    "name": "ipython",
    "version": 3
   },
   "file_extension": ".py",
   "mimetype": "text/x-python",
   "name": "python",
   "nbconvert_exporter": "python",
   "pygments_lexer": "ipython3",
   "version": "3.11.13"
  },
  "papermill": {
   "default_parameters": {},
   "duration": 4202.914433,
   "end_time": "2025-10-30T04:07:50.485038",
   "environment_variables": {},
   "exception": null,
   "input_path": "__notebook__.ipynb",
   "output_path": "__notebook__.ipynb",
   "parameters": {},
   "start_time": "2025-10-30T02:57:47.570605",
   "version": "2.6.0"
  },
  "widgets": {
   "application/vnd.jupyter.widget-state+json": {
    "state": {
     "0ce3aae2dddd466b9d7dbfa47f0229d4": {
      "model_module": "@jupyter-widgets/base",
      "model_module_version": "2.0.0",
      "model_name": "LayoutModel",
      "state": {
       "_model_module": "@jupyter-widgets/base",
       "_model_module_version": "2.0.0",
       "_model_name": "LayoutModel",
       "_view_count": null,
       "_view_module": "@jupyter-widgets/base",
       "_view_module_version": "2.0.0",
       "_view_name": "LayoutView",
       "align_content": null,
       "align_items": null,
       "align_self": null,
       "border_bottom": null,
       "border_left": null,
       "border_right": null,
       "border_top": null,
       "bottom": null,
       "display": null,
       "flex": null,
       "flex_flow": null,
       "grid_area": null,
       "grid_auto_columns": null,
       "grid_auto_flow": null,
       "grid_auto_rows": null,
       "grid_column": null,
       "grid_gap": null,
       "grid_row": null,
       "grid_template_areas": null,
       "grid_template_columns": null,
       "grid_template_rows": null,
       "height": null,
       "justify_content": null,
       "justify_items": null,
       "left": null,
       "margin": null,
       "max_height": null,
       "max_width": null,
       "min_height": null,
       "min_width": null,
       "object_fit": null,
       "object_position": null,
       "order": null,
       "overflow": null,
       "padding": null,
       "right": null,
       "top": null,
       "visibility": null,
       "width": null
      }
     },
     "13d32280dc1f4c379d8ef8d4ef51a227": {
      "model_module": "@jupyter-widgets/base",
      "model_module_version": "2.0.0",
      "model_name": "LayoutModel",
      "state": {
       "_model_module": "@jupyter-widgets/base",
       "_model_module_version": "2.0.0",
       "_model_name": "LayoutModel",
       "_view_count": null,
       "_view_module": "@jupyter-widgets/base",
       "_view_module_version": "2.0.0",
       "_view_name": "LayoutView",
       "align_content": null,
       "align_items": null,
       "align_self": null,
       "border_bottom": null,
       "border_left": null,
       "border_right": null,
       "border_top": null,
       "bottom": null,
       "display": null,
       "flex": null,
       "flex_flow": null,
       "grid_area": null,
       "grid_auto_columns": null,
       "grid_auto_flow": null,
       "grid_auto_rows": null,
       "grid_column": null,
       "grid_gap": null,
       "grid_row": null,
       "grid_template_areas": null,
       "grid_template_columns": null,
       "grid_template_rows": null,
       "height": null,
       "justify_content": null,
       "justify_items": null,
       "left": null,
       "margin": null,
       "max_height": null,
       "max_width": null,
       "min_height": null,
       "min_width": null,
       "object_fit": null,
       "object_position": null,
       "order": null,
       "overflow": null,
       "padding": null,
       "right": null,
       "top": null,
       "visibility": null,
       "width": null
      }
     },
     "17caf9231e3440ecb755c70a84f0eaa0": {
      "model_module": "@jupyter-widgets/base",
      "model_module_version": "2.0.0",
      "model_name": "LayoutModel",
      "state": {
       "_model_module": "@jupyter-widgets/base",
       "_model_module_version": "2.0.0",
       "_model_name": "LayoutModel",
       "_view_count": null,
       "_view_module": "@jupyter-widgets/base",
       "_view_module_version": "2.0.0",
       "_view_name": "LayoutView",
       "align_content": null,
       "align_items": null,
       "align_self": null,
       "border_bottom": null,
       "border_left": null,
       "border_right": null,
       "border_top": null,
       "bottom": null,
       "display": null,
       "flex": null,
       "flex_flow": null,
       "grid_area": null,
       "grid_auto_columns": null,
       "grid_auto_flow": null,
       "grid_auto_rows": null,
       "grid_column": null,
       "grid_gap": null,
       "grid_row": null,
       "grid_template_areas": null,
       "grid_template_columns": null,
       "grid_template_rows": null,
       "height": null,
       "justify_content": null,
       "justify_items": null,
       "left": null,
       "margin": null,
       "max_height": null,
       "max_width": null,
       "min_height": null,
       "min_width": null,
       "object_fit": null,
       "object_position": null,
       "order": null,
       "overflow": null,
       "padding": null,
       "right": null,
       "top": null,
       "visibility": null,
       "width": null
      }
     },
     "183f4cb65eb84a01928b8bd56ebcf8a1": {
      "model_module": "@jupyter-widgets/controls",
      "model_module_version": "2.0.0",
      "model_name": "HTMLModel",
      "state": {
       "_dom_classes": [],
       "_model_module": "@jupyter-widgets/controls",
       "_model_module_version": "2.0.0",
       "_model_name": "HTMLModel",
       "_view_count": null,
       "_view_module": "@jupyter-widgets/controls",
       "_view_module_version": "2.0.0",
       "_view_name": "HTMLView",
       "description": "",
       "description_allow_html": false,
       "layout": "IPY_MODEL_38260e943058465db7322563ea832431",
       "placeholder": "​",
       "style": "IPY_MODEL_5eb93abfc98747b89742a30990247b55",
       "tabbable": null,
       "tooltip": null,
       "value": "tokenizer.json: "
      }
     },
     "1a51a17ce5344e9d94e287fe5e1fe595": {
      "model_module": "@jupyter-widgets/controls",
      "model_module_version": "2.0.0",
      "model_name": "ProgressStyleModel",
      "state": {
       "_model_module": "@jupyter-widgets/controls",
       "_model_module_version": "2.0.0",
       "_model_name": "ProgressStyleModel",
       "_view_count": null,
       "_view_module": "@jupyter-widgets/base",
       "_view_module_version": "2.0.0",
       "_view_name": "StyleView",
       "bar_color": null,
       "description_width": ""
      }
     },
     "1b8b878ab5374fb881abb1191f8ea98b": {
      "model_module": "@jupyter-widgets/base",
      "model_module_version": "2.0.0",
      "model_name": "LayoutModel",
      "state": {
       "_model_module": "@jupyter-widgets/base",
       "_model_module_version": "2.0.0",
       "_model_name": "LayoutModel",
       "_view_count": null,
       "_view_module": "@jupyter-widgets/base",
       "_view_module_version": "2.0.0",
       "_view_name": "LayoutView",
       "align_content": null,
       "align_items": null,
       "align_self": null,
       "border_bottom": null,
       "border_left": null,
       "border_right": null,
       "border_top": null,
       "bottom": null,
       "display": null,
       "flex": null,
       "flex_flow": null,
       "grid_area": null,
       "grid_auto_columns": null,
       "grid_auto_flow": null,
       "grid_auto_rows": null,
       "grid_column": null,
       "grid_gap": null,
       "grid_row": null,
       "grid_template_areas": null,
       "grid_template_columns": null,
       "grid_template_rows": null,
       "height": null,
       "justify_content": null,
       "justify_items": null,
       "left": null,
       "margin": null,
       "max_height": null,
       "max_width": null,
       "min_height": null,
       "min_width": null,
       "object_fit": null,
       "object_position": null,
       "order": null,
       "overflow": null,
       "padding": null,
       "right": null,
       "top": null,
       "visibility": null,
       "width": null
      }
     },
     "1f1b40bb73394ccc99197908ab2043a9": {
      "model_module": "@jupyter-widgets/controls",
      "model_module_version": "2.0.0",
      "model_name": "HBoxModel",
      "state": {
       "_dom_classes": [],
       "_model_module": "@jupyter-widgets/controls",
       "_model_module_version": "2.0.0",
       "_model_name": "HBoxModel",
       "_view_count": null,
       "_view_module": "@jupyter-widgets/controls",
       "_view_module_version": "2.0.0",
       "_view_name": "HBoxView",
       "box_style": "",
       "children": [
        "IPY_MODEL_4a1f15862eb04220b292d1cc567a1347",
        "IPY_MODEL_3556fcb2650748b886c4c6a7c7473ea7",
        "IPY_MODEL_447da1cd06cb4c8a8adfb5f78c4dca29"
       ],
       "layout": "IPY_MODEL_7e0f11ccbab041b6acda5dfb3c82fd3a",
       "tabbable": null,
       "tooltip": null
      }
     },
     "299b7e7448b640f08062c30053341155": {
      "model_module": "@jupyter-widgets/base",
      "model_module_version": "2.0.0",
      "model_name": "LayoutModel",
      "state": {
       "_model_module": "@jupyter-widgets/base",
       "_model_module_version": "2.0.0",
       "_model_name": "LayoutModel",
       "_view_count": null,
       "_view_module": "@jupyter-widgets/base",
       "_view_module_version": "2.0.0",
       "_view_name": "LayoutView",
       "align_content": null,
       "align_items": null,
       "align_self": null,
       "border_bottom": null,
       "border_left": null,
       "border_right": null,
       "border_top": null,
       "bottom": null,
       "display": null,
       "flex": null,
       "flex_flow": null,
       "grid_area": null,
       "grid_auto_columns": null,
       "grid_auto_flow": null,
       "grid_auto_rows": null,
       "grid_column": null,
       "grid_gap": null,
       "grid_row": null,
       "grid_template_areas": null,
       "grid_template_columns": null,
       "grid_template_rows": null,
       "height": null,
       "justify_content": null,
       "justify_items": null,
       "left": null,
       "margin": null,
       "max_height": null,
       "max_width": null,
       "min_height": null,
       "min_width": null,
       "object_fit": null,
       "object_position": null,
       "order": null,
       "overflow": null,
       "padding": null,
       "right": null,
       "top": null,
       "visibility": null,
       "width": null
      }
     },
     "2c9d1f2fefc2438b9da4b74eea4d9950": {
      "model_module": "@jupyter-widgets/controls",
      "model_module_version": "2.0.0",
      "model_name": "FloatProgressModel",
      "state": {
       "_dom_classes": [],
       "_model_module": "@jupyter-widgets/controls",
       "_model_module_version": "2.0.0",
       "_model_name": "FloatProgressModel",
       "_view_count": null,
       "_view_module": "@jupyter-widgets/controls",
       "_view_module_version": "2.0.0",
       "_view_name": "ProgressView",
       "bar_style": "success",
       "description": "",
       "description_allow_html": false,
       "layout": "IPY_MODEL_0ce3aae2dddd466b9d7dbfa47f0229d4",
       "max": 615.0,
       "min": 0.0,
       "orientation": "horizontal",
       "style": "IPY_MODEL_603c321817604532914e63c566bcffaa",
       "tabbable": null,
       "tooltip": null,
       "value": 615.0
      }
     },
     "2ee45aa8e32247838cd5b64c16b2581d": {
      "model_module": "@jupyter-widgets/controls",
      "model_module_version": "2.0.0",
      "model_name": "HTMLModel",
      "state": {
       "_dom_classes": [],
       "_model_module": "@jupyter-widgets/controls",
       "_model_module_version": "2.0.0",
       "_model_name": "HTMLModel",
       "_view_count": null,
       "_view_module": "@jupyter-widgets/controls",
       "_view_module_version": "2.0.0",
       "_view_name": "HTMLView",
       "description": "",
       "description_allow_html": false,
       "layout": "IPY_MODEL_a2f839b3194541c5b995e93a404e1747",
       "placeholder": "​",
       "style": "IPY_MODEL_cdc388827f9741ed89da2991b4e4e646",
       "tabbable": null,
       "tooltip": null,
       "value": "config.json: 100%"
      }
     },
     "320889322f4440b2ad5a9e92e5f310c9": {
      "model_module": "@jupyter-widgets/controls",
      "model_module_version": "2.0.0",
      "model_name": "HTMLStyleModel",
      "state": {
       "_model_module": "@jupyter-widgets/controls",
       "_model_module_version": "2.0.0",
       "_model_name": "HTMLStyleModel",
       "_view_count": null,
       "_view_module": "@jupyter-widgets/base",
       "_view_module_version": "2.0.0",
       "_view_name": "StyleView",
       "background": null,
       "description_width": "",
       "font_size": null,
       "text_color": null
      }
     },
     "3556fcb2650748b886c4c6a7c7473ea7": {
      "model_module": "@jupyter-widgets/controls",
      "model_module_version": "2.0.0",
      "model_name": "FloatProgressModel",
      "state": {
       "_dom_classes": [],
       "_model_module": "@jupyter-widgets/controls",
       "_model_module_version": "2.0.0",
       "_model_name": "FloatProgressModel",
       "_view_count": null,
       "_view_module": "@jupyter-widgets/controls",
       "_view_module_version": "2.0.0",
       "_view_name": "ProgressView",
       "bar_style": "success",
       "description": "",
       "description_allow_html": false,
       "layout": "IPY_MODEL_b52cc84aac6746f68cdf6eeb7a9b852b",
       "max": 1.0,
       "min": 0.0,
       "orientation": "horizontal",
       "style": "IPY_MODEL_837fc1ab2ff441618d043bcfdcdd40d7",
       "tabbable": null,
       "tooltip": null,
       "value": 1.0
      }
     },
     "38260e943058465db7322563ea832431": {
      "model_module": "@jupyter-widgets/base",
      "model_module_version": "2.0.0",
      "model_name": "LayoutModel",
      "state": {
       "_model_module": "@jupyter-widgets/base",
       "_model_module_version": "2.0.0",
       "_model_name": "LayoutModel",
       "_view_count": null,
       "_view_module": "@jupyter-widgets/base",
       "_view_module_version": "2.0.0",
       "_view_name": "LayoutView",
       "align_content": null,
       "align_items": null,
       "align_self": null,
       "border_bottom": null,
       "border_left": null,
       "border_right": null,
       "border_top": null,
       "bottom": null,
       "display": null,
       "flex": null,
       "flex_flow": null,
       "grid_area": null,
       "grid_auto_columns": null,
       "grid_auto_flow": null,
       "grid_auto_rows": null,
       "grid_column": null,
       "grid_gap": null,
       "grid_row": null,
       "grid_template_areas": null,
       "grid_template_columns": null,
       "grid_template_rows": null,
       "height": null,
       "justify_content": null,
       "justify_items": null,
       "left": null,
       "margin": null,
       "max_height": null,
       "max_width": null,
       "min_height": null,
       "min_width": null,
       "object_fit": null,
       "object_position": null,
       "order": null,
       "overflow": null,
       "padding": null,
       "right": null,
       "top": null,
       "visibility": null,
       "width": null
      }
     },
     "42ddcfe48c104286b0ffb0fc93317d1f": {
      "model_module": "@jupyter-widgets/base",
      "model_module_version": "2.0.0",
      "model_name": "LayoutModel",
      "state": {
       "_model_module": "@jupyter-widgets/base",
       "_model_module_version": "2.0.0",
       "_model_name": "LayoutModel",
       "_view_count": null,
       "_view_module": "@jupyter-widgets/base",
       "_view_module_version": "2.0.0",
       "_view_name": "LayoutView",
       "align_content": null,
       "align_items": null,
       "align_self": null,
       "border_bottom": null,
       "border_left": null,
       "border_right": null,
       "border_top": null,
       "bottom": null,
       "display": null,
       "flex": null,
       "flex_flow": null,
       "grid_area": null,
       "grid_auto_columns": null,
       "grid_auto_flow": null,
       "grid_auto_rows": null,
       "grid_column": null,
       "grid_gap": null,
       "grid_row": null,
       "grid_template_areas": null,
       "grid_template_columns": null,
       "grid_template_rows": null,
       "height": null,
       "justify_content": null,
       "justify_items": null,
       "left": null,
       "margin": null,
       "max_height": null,
       "max_width": null,
       "min_height": null,
       "min_width": null,
       "object_fit": null,
       "object_position": null,
       "order": null,
       "overflow": null,
       "padding": null,
       "right": null,
       "top": null,
       "visibility": null,
       "width": null
      }
     },
     "447da1cd06cb4c8a8adfb5f78c4dca29": {
      "model_module": "@jupyter-widgets/controls",
      "model_module_version": "2.0.0",
      "model_name": "HTMLModel",
      "state": {
       "_dom_classes": [],
       "_model_module": "@jupyter-widgets/controls",
       "_model_module_version": "2.0.0",
       "_model_name": "HTMLModel",
       "_view_count": null,
       "_view_module": "@jupyter-widgets/controls",
       "_view_module_version": "2.0.0",
       "_view_name": "HTMLView",
       "description": "",
       "description_allow_html": false,
       "layout": "IPY_MODEL_5affe381ce0b484f906dfb8ab422acde",
       "placeholder": "​",
       "style": "IPY_MODEL_e30eeed25ae84e4381e9641725e679ba",
       "tabbable": null,
       "tooltip": null,
       "value": " 232k/? [00:00&lt;00:00, 10.5MB/s]"
      }
     },
     "44ab60b01f224ad89df505e514791d22": {
      "model_module": "@jupyter-widgets/base",
      "model_module_version": "2.0.0",
      "model_name": "LayoutModel",
      "state": {
       "_model_module": "@jupyter-widgets/base",
       "_model_module_version": "2.0.0",
       "_model_name": "LayoutModel",
       "_view_count": null,
       "_view_module": "@jupyter-widgets/base",
       "_view_module_version": "2.0.0",
       "_view_name": "LayoutView",
       "align_content": null,
       "align_items": null,
       "align_self": null,
       "border_bottom": null,
       "border_left": null,
       "border_right": null,
       "border_top": null,
       "bottom": null,
       "display": null,
       "flex": null,
       "flex_flow": null,
       "grid_area": null,
       "grid_auto_columns": null,
       "grid_auto_flow": null,
       "grid_auto_rows": null,
       "grid_column": null,
       "grid_gap": null,
       "grid_row": null,
       "grid_template_areas": null,
       "grid_template_columns": null,
       "grid_template_rows": null,
       "height": null,
       "justify_content": null,
       "justify_items": null,
       "left": null,
       "margin": null,
       "max_height": null,
       "max_width": null,
       "min_height": null,
       "min_width": null,
       "object_fit": null,
       "object_position": null,
       "order": null,
       "overflow": null,
       "padding": null,
       "right": null,
       "top": null,
       "visibility": null,
       "width": null
      }
     },
     "4a1f15862eb04220b292d1cc567a1347": {
      "model_module": "@jupyter-widgets/controls",
      "model_module_version": "2.0.0",
      "model_name": "HTMLModel",
      "state": {
       "_dom_classes": [],
       "_model_module": "@jupyter-widgets/controls",
       "_model_module_version": "2.0.0",
       "_model_name": "HTMLModel",
       "_view_count": null,
       "_view_module": "@jupyter-widgets/controls",
       "_view_module_version": "2.0.0",
       "_view_name": "HTMLView",
       "description": "",
       "description_allow_html": false,
       "layout": "IPY_MODEL_d2d12b77dfeb4307a72863f73e4073c3",
       "placeholder": "​",
       "style": "IPY_MODEL_320889322f4440b2ad5a9e92e5f310c9",
       "tabbable": null,
       "tooltip": null,
       "value": "vocab.txt: "
      }
     },
     "4cdea5cd47754dc68297ae144c2f36ac": {
      "model_module": "@jupyter-widgets/controls",
      "model_module_version": "2.0.0",
      "model_name": "FloatProgressModel",
      "state": {
       "_dom_classes": [],
       "_model_module": "@jupyter-widgets/controls",
       "_model_module_version": "2.0.0",
       "_model_name": "FloatProgressModel",
       "_view_count": null,
       "_view_module": "@jupyter-widgets/controls",
       "_view_module_version": "2.0.0",
       "_view_name": "ProgressView",
       "bar_style": "success",
       "description": "",
       "description_allow_html": false,
       "layout": "IPY_MODEL_f806522f567d448e8efb2de33f731c84",
       "max": 112.0,
       "min": 0.0,
       "orientation": "horizontal",
       "style": "IPY_MODEL_1a51a17ce5344e9d94e287fe5e1fe595",
       "tabbable": null,
       "tooltip": null,
       "value": 112.0
      }
     },
     "5448f6383477417890f8bf70d45aede3": {
      "model_module": "@jupyter-widgets/controls",
      "model_module_version": "2.0.0",
      "model_name": "HTMLStyleModel",
      "state": {
       "_model_module": "@jupyter-widgets/controls",
       "_model_module_version": "2.0.0",
       "_model_name": "HTMLStyleModel",
       "_view_count": null,
       "_view_module": "@jupyter-widgets/base",
       "_view_module_version": "2.0.0",
       "_view_name": "StyleView",
       "background": null,
       "description_width": "",
       "font_size": null,
       "text_color": null
      }
     },
     "5affe381ce0b484f906dfb8ab422acde": {
      "model_module": "@jupyter-widgets/base",
      "model_module_version": "2.0.0",
      "model_name": "LayoutModel",
      "state": {
       "_model_module": "@jupyter-widgets/base",
       "_model_module_version": "2.0.0",
       "_model_name": "LayoutModel",
       "_view_count": null,
       "_view_module": "@jupyter-widgets/base",
       "_view_module_version": "2.0.0",
       "_view_name": "LayoutView",
       "align_content": null,
       "align_items": null,
       "align_self": null,
       "border_bottom": null,
       "border_left": null,
       "border_right": null,
       "border_top": null,
       "bottom": null,
       "display": null,
       "flex": null,
       "flex_flow": null,
       "grid_area": null,
       "grid_auto_columns": null,
       "grid_auto_flow": null,
       "grid_auto_rows": null,
       "grid_column": null,
       "grid_gap": null,
       "grid_row": null,
       "grid_template_areas": null,
       "grid_template_columns": null,
       "grid_template_rows": null,
       "height": null,
       "justify_content": null,
       "justify_items": null,
       "left": null,
       "margin": null,
       "max_height": null,
       "max_width": null,
       "min_height": null,
       "min_width": null,
       "object_fit": null,
       "object_position": null,
       "order": null,
       "overflow": null,
       "padding": null,
       "right": null,
       "top": null,
       "visibility": null,
       "width": null
      }
     },
     "5eb93abfc98747b89742a30990247b55": {
      "model_module": "@jupyter-widgets/controls",
      "model_module_version": "2.0.0",
      "model_name": "HTMLStyleModel",
      "state": {
       "_model_module": "@jupyter-widgets/controls",
       "_model_module_version": "2.0.0",
       "_model_name": "HTMLStyleModel",
       "_view_count": null,
       "_view_module": "@jupyter-widgets/base",
       "_view_module_version": "2.0.0",
       "_view_name": "StyleView",
       "background": null,
       "description_width": "",
       "font_size": null,
       "text_color": null
      }
     },
     "603c321817604532914e63c566bcffaa": {
      "model_module": "@jupyter-widgets/controls",
      "model_module_version": "2.0.0",
      "model_name": "ProgressStyleModel",
      "state": {
       "_model_module": "@jupyter-widgets/controls",
       "_model_module_version": "2.0.0",
       "_model_name": "ProgressStyleModel",
       "_view_count": null,
       "_view_module": "@jupyter-widgets/base",
       "_view_module_version": "2.0.0",
       "_view_name": "StyleView",
       "bar_color": null,
       "description_width": ""
      }
     },
     "632938ebbb6042b4abfff4af5c5157a0": {
      "model_module": "@jupyter-widgets/controls",
      "model_module_version": "2.0.0",
      "model_name": "HBoxModel",
      "state": {
       "_dom_classes": [],
       "_model_module": "@jupyter-widgets/controls",
       "_model_module_version": "2.0.0",
       "_model_name": "HBoxModel",
       "_view_count": null,
       "_view_module": "@jupyter-widgets/controls",
       "_view_module_version": "2.0.0",
       "_view_name": "HBoxView",
       "box_style": "",
       "children": [
        "IPY_MODEL_2ee45aa8e32247838cd5b64c16b2581d",
        "IPY_MODEL_2c9d1f2fefc2438b9da4b74eea4d9950",
        "IPY_MODEL_ea5ea5c4f20d4a9999754ab0440d86d7"
       ],
       "layout": "IPY_MODEL_94dedf81f67b45e38512efcf2bf8f1e5",
       "tabbable": null,
       "tooltip": null
      }
     },
     "691d38e531c74e85a4690224e1bca586": {
      "model_module": "@jupyter-widgets/controls",
      "model_module_version": "2.0.0",
      "model_name": "HBoxModel",
      "state": {
       "_dom_classes": [],
       "_model_module": "@jupyter-widgets/controls",
       "_model_module_version": "2.0.0",
       "_model_name": "HBoxModel",
       "_view_count": null,
       "_view_module": "@jupyter-widgets/controls",
       "_view_module_version": "2.0.0",
       "_view_name": "HBoxView",
       "box_style": "",
       "children": [
        "IPY_MODEL_8bd6fe08eb4b48fb8c8e15d0c02494bc",
        "IPY_MODEL_4cdea5cd47754dc68297ae144c2f36ac",
        "IPY_MODEL_f3731f93528b4640bd30367797065590"
       ],
       "layout": "IPY_MODEL_c77315e1d83d4d14aef1d0ab89f8b5d2",
       "tabbable": null,
       "tooltip": null
      }
     },
     "6c8b6516cc0b4a509018813447ba6c57": {
      "model_module": "@jupyter-widgets/base",
      "model_module_version": "2.0.0",
      "model_name": "LayoutModel",
      "state": {
       "_model_module": "@jupyter-widgets/base",
       "_model_module_version": "2.0.0",
       "_model_name": "LayoutModel",
       "_view_count": null,
       "_view_module": "@jupyter-widgets/base",
       "_view_module_version": "2.0.0",
       "_view_name": "LayoutView",
       "align_content": null,
       "align_items": null,
       "align_self": null,
       "border_bottom": null,
       "border_left": null,
       "border_right": null,
       "border_top": null,
       "bottom": null,
       "display": null,
       "flex": null,
       "flex_flow": null,
       "grid_area": null,
       "grid_auto_columns": null,
       "grid_auto_flow": null,
       "grid_auto_rows": null,
       "grid_column": null,
       "grid_gap": null,
       "grid_row": null,
       "grid_template_areas": null,
       "grid_template_columns": null,
       "grid_template_rows": null,
       "height": null,
       "justify_content": null,
       "justify_items": null,
       "left": null,
       "margin": null,
       "max_height": null,
       "max_width": null,
       "min_height": null,
       "min_width": null,
       "object_fit": null,
       "object_position": null,
       "order": null,
       "overflow": null,
       "padding": null,
       "right": null,
       "top": null,
       "visibility": null,
       "width": null
      }
     },
     "6dc96adeeca042a7b605061992aea8cc": {
      "model_module": "@jupyter-widgets/base",
      "model_module_version": "2.0.0",
      "model_name": "LayoutModel",
      "state": {
       "_model_module": "@jupyter-widgets/base",
       "_model_module_version": "2.0.0",
       "_model_name": "LayoutModel",
       "_view_count": null,
       "_view_module": "@jupyter-widgets/base",
       "_view_module_version": "2.0.0",
       "_view_name": "LayoutView",
       "align_content": null,
       "align_items": null,
       "align_self": null,
       "border_bottom": null,
       "border_left": null,
       "border_right": null,
       "border_top": null,
       "bottom": null,
       "display": null,
       "flex": null,
       "flex_flow": null,
       "grid_area": null,
       "grid_auto_columns": null,
       "grid_auto_flow": null,
       "grid_auto_rows": null,
       "grid_column": null,
       "grid_gap": null,
       "grid_row": null,
       "grid_template_areas": null,
       "grid_template_columns": null,
       "grid_template_rows": null,
       "height": null,
       "justify_content": null,
       "justify_items": null,
       "left": null,
       "margin": null,
       "max_height": null,
       "max_width": null,
       "min_height": null,
       "min_width": null,
       "object_fit": null,
       "object_position": null,
       "order": null,
       "overflow": null,
       "padding": null,
       "right": null,
       "top": null,
       "visibility": null,
       "width": null
      }
     },
     "742913e79e7241e7b2f1ae9317d343de": {
      "model_module": "@jupyter-widgets/controls",
      "model_module_version": "2.0.0",
      "model_name": "HTMLStyleModel",
      "state": {
       "_model_module": "@jupyter-widgets/controls",
       "_model_module_version": "2.0.0",
       "_model_name": "HTMLStyleModel",
       "_view_count": null,
       "_view_module": "@jupyter-widgets/base",
       "_view_module_version": "2.0.0",
       "_view_name": "StyleView",
       "background": null,
       "description_width": "",
       "font_size": null,
       "text_color": null
      }
     },
     "79c41262761d41d59c88bee533fbc110": {
      "model_module": "@jupyter-widgets/base",
      "model_module_version": "2.0.0",
      "model_name": "LayoutModel",
      "state": {
       "_model_module": "@jupyter-widgets/base",
       "_model_module_version": "2.0.0",
       "_model_name": "LayoutModel",
       "_view_count": null,
       "_view_module": "@jupyter-widgets/base",
       "_view_module_version": "2.0.0",
       "_view_name": "LayoutView",
       "align_content": null,
       "align_items": null,
       "align_self": null,
       "border_bottom": null,
       "border_left": null,
       "border_right": null,
       "border_top": null,
       "bottom": null,
       "display": null,
       "flex": null,
       "flex_flow": null,
       "grid_area": null,
       "grid_auto_columns": null,
       "grid_auto_flow": null,
       "grid_auto_rows": null,
       "grid_column": null,
       "grid_gap": null,
       "grid_row": null,
       "grid_template_areas": null,
       "grid_template_columns": null,
       "grid_template_rows": null,
       "height": null,
       "justify_content": null,
       "justify_items": null,
       "left": null,
       "margin": null,
       "max_height": null,
       "max_width": null,
       "min_height": null,
       "min_width": null,
       "object_fit": null,
       "object_position": null,
       "order": null,
       "overflow": null,
       "padding": null,
       "right": null,
       "top": null,
       "visibility": null,
       "width": null
      }
     },
     "7e0f11ccbab041b6acda5dfb3c82fd3a": {
      "model_module": "@jupyter-widgets/base",
      "model_module_version": "2.0.0",
      "model_name": "LayoutModel",
      "state": {
       "_model_module": "@jupyter-widgets/base",
       "_model_module_version": "2.0.0",
       "_model_name": "LayoutModel",
       "_view_count": null,
       "_view_module": "@jupyter-widgets/base",
       "_view_module_version": "2.0.0",
       "_view_name": "LayoutView",
       "align_content": null,
       "align_items": null,
       "align_self": null,
       "border_bottom": null,
       "border_left": null,
       "border_right": null,
       "border_top": null,
       "bottom": null,
       "display": null,
       "flex": null,
       "flex_flow": null,
       "grid_area": null,
       "grid_auto_columns": null,
       "grid_auto_flow": null,
       "grid_auto_rows": null,
       "grid_column": null,
       "grid_gap": null,
       "grid_row": null,
       "grid_template_areas": null,
       "grid_template_columns": null,
       "grid_template_rows": null,
       "height": null,
       "justify_content": null,
       "justify_items": null,
       "left": null,
       "margin": null,
       "max_height": null,
       "max_width": null,
       "min_height": null,
       "min_width": null,
       "object_fit": null,
       "object_position": null,
       "order": null,
       "overflow": null,
       "padding": null,
       "right": null,
       "top": null,
       "visibility": null,
       "width": null
      }
     },
     "837fc1ab2ff441618d043bcfdcdd40d7": {
      "model_module": "@jupyter-widgets/controls",
      "model_module_version": "2.0.0",
      "model_name": "ProgressStyleModel",
      "state": {
       "_model_module": "@jupyter-widgets/controls",
       "_model_module_version": "2.0.0",
       "_model_name": "ProgressStyleModel",
       "_view_count": null,
       "_view_module": "@jupyter-widgets/base",
       "_view_module_version": "2.0.0",
       "_view_name": "StyleView",
       "bar_color": null,
       "description_width": ""
      }
     },
     "841a89c0a5554d9ea92dd464f90da7eb": {
      "model_module": "@jupyter-widgets/controls",
      "model_module_version": "2.0.0",
      "model_name": "HTMLModel",
      "state": {
       "_dom_classes": [],
       "_model_module": "@jupyter-widgets/controls",
       "_model_module_version": "2.0.0",
       "_model_name": "HTMLModel",
       "_view_count": null,
       "_view_module": "@jupyter-widgets/controls",
       "_view_module_version": "2.0.0",
       "_view_name": "HTMLView",
       "description": "",
       "description_allow_html": false,
       "layout": "IPY_MODEL_44ab60b01f224ad89df505e514791d22",
       "placeholder": "​",
       "style": "IPY_MODEL_b8381cff31b04b9992a1565a148c7cc7",
       "tabbable": null,
       "tooltip": null,
       "value": "tokenizer_config.json: 100%"
      }
     },
     "88a9731f15f445498d64bb6b7ce71184": {
      "model_module": "@jupyter-widgets/controls",
      "model_module_version": "2.0.0",
      "model_name": "HTMLStyleModel",
      "state": {
       "_model_module": "@jupyter-widgets/controls",
       "_model_module_version": "2.0.0",
       "_model_name": "HTMLStyleModel",
       "_view_count": null,
       "_view_module": "@jupyter-widgets/base",
       "_view_module_version": "2.0.0",
       "_view_name": "StyleView",
       "background": null,
       "description_width": "",
       "font_size": null,
       "text_color": null
      }
     },
     "8bd6fe08eb4b48fb8c8e15d0c02494bc": {
      "model_module": "@jupyter-widgets/controls",
      "model_module_version": "2.0.0",
      "model_name": "HTMLModel",
      "state": {
       "_dom_classes": [],
       "_model_module": "@jupyter-widgets/controls",
       "_model_module_version": "2.0.0",
       "_model_name": "HTMLModel",
       "_view_count": null,
       "_view_module": "@jupyter-widgets/controls",
       "_view_module_version": "2.0.0",
       "_view_name": "HTMLView",
       "description": "",
       "description_allow_html": false,
       "layout": "IPY_MODEL_966989a186884a979eec333b19e2e9bf",
       "placeholder": "​",
       "style": "IPY_MODEL_5448f6383477417890f8bf70d45aede3",
       "tabbable": null,
       "tooltip": null,
       "value": "special_tokens_map.json: 100%"
      }
     },
     "94dedf81f67b45e38512efcf2bf8f1e5": {
      "model_module": "@jupyter-widgets/base",
      "model_module_version": "2.0.0",
      "model_name": "LayoutModel",
      "state": {
       "_model_module": "@jupyter-widgets/base",
       "_model_module_version": "2.0.0",
       "_model_name": "LayoutModel",
       "_view_count": null,
       "_view_module": "@jupyter-widgets/base",
       "_view_module_version": "2.0.0",
       "_view_name": "LayoutView",
       "align_content": null,
       "align_items": null,
       "align_self": null,
       "border_bottom": null,
       "border_left": null,
       "border_right": null,
       "border_top": null,
       "bottom": null,
       "display": null,
       "flex": null,
       "flex_flow": null,
       "grid_area": null,
       "grid_auto_columns": null,
       "grid_auto_flow": null,
       "grid_auto_rows": null,
       "grid_column": null,
       "grid_gap": null,
       "grid_row": null,
       "grid_template_areas": null,
       "grid_template_columns": null,
       "grid_template_rows": null,
       "height": null,
       "justify_content": null,
       "justify_items": null,
       "left": null,
       "margin": null,
       "max_height": null,
       "max_width": null,
       "min_height": null,
       "min_width": null,
       "object_fit": null,
       "object_position": null,
       "order": null,
       "overflow": null,
       "padding": null,
       "right": null,
       "top": null,
       "visibility": null,
       "width": null
      }
     },
     "966989a186884a979eec333b19e2e9bf": {
      "model_module": "@jupyter-widgets/base",
      "model_module_version": "2.0.0",
      "model_name": "LayoutModel",
      "state": {
       "_model_module": "@jupyter-widgets/base",
       "_model_module_version": "2.0.0",
       "_model_name": "LayoutModel",
       "_view_count": null,
       "_view_module": "@jupyter-widgets/base",
       "_view_module_version": "2.0.0",
       "_view_name": "LayoutView",
       "align_content": null,
       "align_items": null,
       "align_self": null,
       "border_bottom": null,
       "border_left": null,
       "border_right": null,
       "border_top": null,
       "bottom": null,
       "display": null,
       "flex": null,
       "flex_flow": null,
       "grid_area": null,
       "grid_auto_columns": null,
       "grid_auto_flow": null,
       "grid_auto_rows": null,
       "grid_column": null,
       "grid_gap": null,
       "grid_row": null,
       "grid_template_areas": null,
       "grid_template_columns": null,
       "grid_template_rows": null,
       "height": null,
       "justify_content": null,
       "justify_items": null,
       "left": null,
       "margin": null,
       "max_height": null,
       "max_width": null,
       "min_height": null,
       "min_width": null,
       "object_fit": null,
       "object_position": null,
       "order": null,
       "overflow": null,
       "padding": null,
       "right": null,
       "top": null,
       "visibility": null,
       "width": null
      }
     },
     "a2f839b3194541c5b995e93a404e1747": {
      "model_module": "@jupyter-widgets/base",
      "model_module_version": "2.0.0",
      "model_name": "LayoutModel",
      "state": {
       "_model_module": "@jupyter-widgets/base",
       "_model_module_version": "2.0.0",
       "_model_name": "LayoutModel",
       "_view_count": null,
       "_view_module": "@jupyter-widgets/base",
       "_view_module_version": "2.0.0",
       "_view_name": "LayoutView",
       "align_content": null,
       "align_items": null,
       "align_self": null,
       "border_bottom": null,
       "border_left": null,
       "border_right": null,
       "border_top": null,
       "bottom": null,
       "display": null,
       "flex": null,
       "flex_flow": null,
       "grid_area": null,
       "grid_auto_columns": null,
       "grid_auto_flow": null,
       "grid_auto_rows": null,
       "grid_column": null,
       "grid_gap": null,
       "grid_row": null,
       "grid_template_areas": null,
       "grid_template_columns": null,
       "grid_template_rows": null,
       "height": null,
       "justify_content": null,
       "justify_items": null,
       "left": null,
       "margin": null,
       "max_height": null,
       "max_width": null,
       "min_height": null,
       "min_width": null,
       "object_fit": null,
       "object_position": null,
       "order": null,
       "overflow": null,
       "padding": null,
       "right": null,
       "top": null,
       "visibility": null,
       "width": null
      }
     },
     "a40e55c8291d4e489a7c825536be238f": {
      "model_module": "@jupyter-widgets/controls",
      "model_module_version": "2.0.0",
      "model_name": "FloatProgressModel",
      "state": {
       "_dom_classes": [],
       "_model_module": "@jupyter-widgets/controls",
       "_model_module_version": "2.0.0",
       "_model_name": "FloatProgressModel",
       "_view_count": null,
       "_view_module": "@jupyter-widgets/controls",
       "_view_module_version": "2.0.0",
       "_view_name": "ProgressView",
       "bar_style": "success",
       "description": "",
       "description_allow_html": false,
       "layout": "IPY_MODEL_79c41262761d41d59c88bee533fbc110",
       "max": 352.0,
       "min": 0.0,
       "orientation": "horizontal",
       "style": "IPY_MODEL_e92cac0d3127438cbbfb21afae111f79",
       "tabbable": null,
       "tooltip": null,
       "value": 352.0
      }
     },
     "b46bfb5b9452417baeb89f9ab520f1b4": {
      "model_module": "@jupyter-widgets/controls",
      "model_module_version": "2.0.0",
      "model_name": "ProgressStyleModel",
      "state": {
       "_model_module": "@jupyter-widgets/controls",
       "_model_module_version": "2.0.0",
       "_model_name": "ProgressStyleModel",
       "_view_count": null,
       "_view_module": "@jupyter-widgets/base",
       "_view_module_version": "2.0.0",
       "_view_name": "StyleView",
       "bar_color": null,
       "description_width": ""
      }
     },
     "b52cc84aac6746f68cdf6eeb7a9b852b": {
      "model_module": "@jupyter-widgets/base",
      "model_module_version": "2.0.0",
      "model_name": "LayoutModel",
      "state": {
       "_model_module": "@jupyter-widgets/base",
       "_model_module_version": "2.0.0",
       "_model_name": "LayoutModel",
       "_view_count": null,
       "_view_module": "@jupyter-widgets/base",
       "_view_module_version": "2.0.0",
       "_view_name": "LayoutView",
       "align_content": null,
       "align_items": null,
       "align_self": null,
       "border_bottom": null,
       "border_left": null,
       "border_right": null,
       "border_top": null,
       "bottom": null,
       "display": null,
       "flex": null,
       "flex_flow": null,
       "grid_area": null,
       "grid_auto_columns": null,
       "grid_auto_flow": null,
       "grid_auto_rows": null,
       "grid_column": null,
       "grid_gap": null,
       "grid_row": null,
       "grid_template_areas": null,
       "grid_template_columns": null,
       "grid_template_rows": null,
       "height": null,
       "justify_content": null,
       "justify_items": null,
       "left": null,
       "margin": null,
       "max_height": null,
       "max_width": null,
       "min_height": null,
       "min_width": null,
       "object_fit": null,
       "object_position": null,
       "order": null,
       "overflow": null,
       "padding": null,
       "right": null,
       "top": null,
       "visibility": null,
       "width": "20px"
      }
     },
     "b8381cff31b04b9992a1565a148c7cc7": {
      "model_module": "@jupyter-widgets/controls",
      "model_module_version": "2.0.0",
      "model_name": "HTMLStyleModel",
      "state": {
       "_model_module": "@jupyter-widgets/controls",
       "_model_module_version": "2.0.0",
       "_model_name": "HTMLStyleModel",
       "_view_count": null,
       "_view_module": "@jupyter-widgets/base",
       "_view_module_version": "2.0.0",
       "_view_name": "StyleView",
       "background": null,
       "description_width": "",
       "font_size": null,
       "text_color": null
      }
     },
     "b9930066cbd64a7e993c8dcface24894": {
      "model_module": "@jupyter-widgets/controls",
      "model_module_version": "2.0.0",
      "model_name": "FloatProgressModel",
      "state": {
       "_dom_classes": [],
       "_model_module": "@jupyter-widgets/controls",
       "_model_module_version": "2.0.0",
       "_model_name": "FloatProgressModel",
       "_view_count": null,
       "_view_module": "@jupyter-widgets/controls",
       "_view_module_version": "2.0.0",
       "_view_name": "ProgressView",
       "bar_style": "success",
       "description": "",
       "description_allow_html": false,
       "layout": "IPY_MODEL_e17d752b27a142e6b65651fd70950b7a",
       "max": 133466304.0,
       "min": 0.0,
       "orientation": "horizontal",
       "style": "IPY_MODEL_b46bfb5b9452417baeb89f9ab520f1b4",
       "tabbable": null,
       "tooltip": null,
       "value": 133466304.0
      }
     },
     "beb6e6e195ed454f8c03532036f0989b": {
      "model_module": "@jupyter-widgets/controls",
      "model_module_version": "2.0.0",
      "model_name": "HTMLModel",
      "state": {
       "_dom_classes": [],
       "_model_module": "@jupyter-widgets/controls",
       "_model_module_version": "2.0.0",
       "_model_name": "HTMLModel",
       "_view_count": null,
       "_view_module": "@jupyter-widgets/controls",
       "_view_module_version": "2.0.0",
       "_view_name": "HTMLView",
       "description": "",
       "description_allow_html": false,
       "layout": "IPY_MODEL_13d32280dc1f4c379d8ef8d4ef51a227",
       "placeholder": "​",
       "style": "IPY_MODEL_f82bc209a465444bbf6e1b0d397549f2",
       "tabbable": null,
       "tooltip": null,
       "value": " 352/352 [00:00&lt;00:00, 41.3kB/s]"
      }
     },
     "c13f2d0d2ed847b18b8ab007cde88117": {
      "model_module": "@jupyter-widgets/controls",
      "model_module_version": "2.0.0",
      "model_name": "HTMLModel",
      "state": {
       "_dom_classes": [],
       "_model_module": "@jupyter-widgets/controls",
       "_model_module_version": "2.0.0",
       "_model_name": "HTMLModel",
       "_view_count": null,
       "_view_module": "@jupyter-widgets/controls",
       "_view_module_version": "2.0.0",
       "_view_name": "HTMLView",
       "description": "",
       "description_allow_html": false,
       "layout": "IPY_MODEL_299b7e7448b640f08062c30053341155",
       "placeholder": "​",
       "style": "IPY_MODEL_88a9731f15f445498d64bb6b7ce71184",
       "tabbable": null,
       "tooltip": null,
       "value": " 466k/? [00:00&lt;00:00, 29.3MB/s]"
      }
     },
     "c578ffbb785149e3b13ff36505e192a5": {
      "model_module": "@jupyter-widgets/controls",
      "model_module_version": "2.0.0",
      "model_name": "ProgressStyleModel",
      "state": {
       "_model_module": "@jupyter-widgets/controls",
       "_model_module_version": "2.0.0",
       "_model_name": "ProgressStyleModel",
       "_view_count": null,
       "_view_module": "@jupyter-widgets/base",
       "_view_module_version": "2.0.0",
       "_view_name": "StyleView",
       "bar_color": null,
       "description_width": ""
      }
     },
     "c77315e1d83d4d14aef1d0ab89f8b5d2": {
      "model_module": "@jupyter-widgets/base",
      "model_module_version": "2.0.0",
      "model_name": "LayoutModel",
      "state": {
       "_model_module": "@jupyter-widgets/base",
       "_model_module_version": "2.0.0",
       "_model_name": "LayoutModel",
       "_view_count": null,
       "_view_module": "@jupyter-widgets/base",
       "_view_module_version": "2.0.0",
       "_view_name": "LayoutView",
       "align_content": null,
       "align_items": null,
       "align_self": null,
       "border_bottom": null,
       "border_left": null,
       "border_right": null,
       "border_top": null,
       "bottom": null,
       "display": null,
       "flex": null,
       "flex_flow": null,
       "grid_area": null,
       "grid_auto_columns": null,
       "grid_auto_flow": null,
       "grid_auto_rows": null,
       "grid_column": null,
       "grid_gap": null,
       "grid_row": null,
       "grid_template_areas": null,
       "grid_template_columns": null,
       "grid_template_rows": null,
       "height": null,
       "justify_content": null,
       "justify_items": null,
       "left": null,
       "margin": null,
       "max_height": null,
       "max_width": null,
       "min_height": null,
       "min_width": null,
       "object_fit": null,
       "object_position": null,
       "order": null,
       "overflow": null,
       "padding": null,
       "right": null,
       "top": null,
       "visibility": null,
       "width": null
      }
     },
     "ca01c722e9fe41e29469c8144c2a33ab": {
      "model_module": "@jupyter-widgets/base",
      "model_module_version": "2.0.0",
      "model_name": "LayoutModel",
      "state": {
       "_model_module": "@jupyter-widgets/base",
       "_model_module_version": "2.0.0",
       "_model_name": "LayoutModel",
       "_view_count": null,
       "_view_module": "@jupyter-widgets/base",
       "_view_module_version": "2.0.0",
       "_view_name": "LayoutView",
       "align_content": null,
       "align_items": null,
       "align_self": null,
       "border_bottom": null,
       "border_left": null,
       "border_right": null,
       "border_top": null,
       "bottom": null,
       "display": null,
       "flex": null,
       "flex_flow": null,
       "grid_area": null,
       "grid_auto_columns": null,
       "grid_auto_flow": null,
       "grid_auto_rows": null,
       "grid_column": null,
       "grid_gap": null,
       "grid_row": null,
       "grid_template_areas": null,
       "grid_template_columns": null,
       "grid_template_rows": null,
       "height": null,
       "justify_content": null,
       "justify_items": null,
       "left": null,
       "margin": null,
       "max_height": null,
       "max_width": null,
       "min_height": null,
       "min_width": null,
       "object_fit": null,
       "object_position": null,
       "order": null,
       "overflow": null,
       "padding": null,
       "right": null,
       "top": null,
       "visibility": null,
       "width": null
      }
     },
     "cdc388827f9741ed89da2991b4e4e646": {
      "model_module": "@jupyter-widgets/controls",
      "model_module_version": "2.0.0",
      "model_name": "HTMLStyleModel",
      "state": {
       "_model_module": "@jupyter-widgets/controls",
       "_model_module_version": "2.0.0",
       "_model_name": "HTMLStyleModel",
       "_view_count": null,
       "_view_module": "@jupyter-widgets/base",
       "_view_module_version": "2.0.0",
       "_view_name": "StyleView",
       "background": null,
       "description_width": "",
       "font_size": null,
       "text_color": null
      }
     },
     "d2d12b77dfeb4307a72863f73e4073c3": {
      "model_module": "@jupyter-widgets/base",
      "model_module_version": "2.0.0",
      "model_name": "LayoutModel",
      "state": {
       "_model_module": "@jupyter-widgets/base",
       "_model_module_version": "2.0.0",
       "_model_name": "LayoutModel",
       "_view_count": null,
       "_view_module": "@jupyter-widgets/base",
       "_view_module_version": "2.0.0",
       "_view_name": "LayoutView",
       "align_content": null,
       "align_items": null,
       "align_self": null,
       "border_bottom": null,
       "border_left": null,
       "border_right": null,
       "border_top": null,
       "bottom": null,
       "display": null,
       "flex": null,
       "flex_flow": null,
       "grid_area": null,
       "grid_auto_columns": null,
       "grid_auto_flow": null,
       "grid_auto_rows": null,
       "grid_column": null,
       "grid_gap": null,
       "grid_row": null,
       "grid_template_areas": null,
       "grid_template_columns": null,
       "grid_template_rows": null,
       "height": null,
       "justify_content": null,
       "justify_items": null,
       "left": null,
       "margin": null,
       "max_height": null,
       "max_width": null,
       "min_height": null,
       "min_width": null,
       "object_fit": null,
       "object_position": null,
       "order": null,
       "overflow": null,
       "padding": null,
       "right": null,
       "top": null,
       "visibility": null,
       "width": null
      }
     },
     "d62c3103f9ed465c8784b96ec22543ba": {
      "model_module": "@jupyter-widgets/controls",
      "model_module_version": "2.0.0",
      "model_name": "HBoxModel",
      "state": {
       "_dom_classes": [],
       "_model_module": "@jupyter-widgets/controls",
       "_model_module_version": "2.0.0",
       "_model_name": "HBoxModel",
       "_view_count": null,
       "_view_module": "@jupyter-widgets/controls",
       "_view_module_version": "2.0.0",
       "_view_name": "HBoxView",
       "box_style": "",
       "children": [
        "IPY_MODEL_183f4cb65eb84a01928b8bd56ebcf8a1",
        "IPY_MODEL_e38103d265a94664b0609d0bbc1cb3eb",
        "IPY_MODEL_c13f2d0d2ed847b18b8ab007cde88117"
       ],
       "layout": "IPY_MODEL_17caf9231e3440ecb755c70a84f0eaa0",
       "tabbable": null,
       "tooltip": null
      }
     },
     "e17d752b27a142e6b65651fd70950b7a": {
      "model_module": "@jupyter-widgets/base",
      "model_module_version": "2.0.0",
      "model_name": "LayoutModel",
      "state": {
       "_model_module": "@jupyter-widgets/base",
       "_model_module_version": "2.0.0",
       "_model_name": "LayoutModel",
       "_view_count": null,
       "_view_module": "@jupyter-widgets/base",
       "_view_module_version": "2.0.0",
       "_view_name": "LayoutView",
       "align_content": null,
       "align_items": null,
       "align_self": null,
       "border_bottom": null,
       "border_left": null,
       "border_right": null,
       "border_top": null,
       "bottom": null,
       "display": null,
       "flex": null,
       "flex_flow": null,
       "grid_area": null,
       "grid_auto_columns": null,
       "grid_auto_flow": null,
       "grid_auto_rows": null,
       "grid_column": null,
       "grid_gap": null,
       "grid_row": null,
       "grid_template_areas": null,
       "grid_template_columns": null,
       "grid_template_rows": null,
       "height": null,
       "justify_content": null,
       "justify_items": null,
       "left": null,
       "margin": null,
       "max_height": null,
       "max_width": null,
       "min_height": null,
       "min_width": null,
       "object_fit": null,
       "object_position": null,
       "order": null,
       "overflow": null,
       "padding": null,
       "right": null,
       "top": null,
       "visibility": null,
       "width": null
      }
     },
     "e30eeed25ae84e4381e9641725e679ba": {
      "model_module": "@jupyter-widgets/controls",
      "model_module_version": "2.0.0",
      "model_name": "HTMLStyleModel",
      "state": {
       "_model_module": "@jupyter-widgets/controls",
       "_model_module_version": "2.0.0",
       "_model_name": "HTMLStyleModel",
       "_view_count": null,
       "_view_module": "@jupyter-widgets/base",
       "_view_module_version": "2.0.0",
       "_view_name": "StyleView",
       "background": null,
       "description_width": "",
       "font_size": null,
       "text_color": null
      }
     },
     "e38103d265a94664b0609d0bbc1cb3eb": {
      "model_module": "@jupyter-widgets/controls",
      "model_module_version": "2.0.0",
      "model_name": "FloatProgressModel",
      "state": {
       "_dom_classes": [],
       "_model_module": "@jupyter-widgets/controls",
       "_model_module_version": "2.0.0",
       "_model_name": "FloatProgressModel",
       "_view_count": null,
       "_view_module": "@jupyter-widgets/controls",
       "_view_module_version": "2.0.0",
       "_view_name": "ProgressView",
       "bar_style": "success",
       "description": "",
       "description_allow_html": false,
       "layout": "IPY_MODEL_ee18066b6b9d4463b3f34f8fa2cd50ab",
       "max": 1.0,
       "min": 0.0,
       "orientation": "horizontal",
       "style": "IPY_MODEL_c578ffbb785149e3b13ff36505e192a5",
       "tabbable": null,
       "tooltip": null,
       "value": 1.0
      }
     },
     "e4d448057ead4ae99a888882e45665a0": {
      "model_module": "@jupyter-widgets/controls",
      "model_module_version": "2.0.0",
      "model_name": "HBoxModel",
      "state": {
       "_dom_classes": [],
       "_model_module": "@jupyter-widgets/controls",
       "_model_module_version": "2.0.0",
       "_model_name": "HBoxModel",
       "_view_count": null,
       "_view_module": "@jupyter-widgets/controls",
       "_view_module_version": "2.0.0",
       "_view_name": "HBoxView",
       "box_style": "",
       "children": [
        "IPY_MODEL_e675cd536c3c45ed8d0e92078b1ee69f",
        "IPY_MODEL_b9930066cbd64a7e993c8dcface24894",
        "IPY_MODEL_e866a1b0648a41d4b7117352402a5242"
       ],
       "layout": "IPY_MODEL_6dc96adeeca042a7b605061992aea8cc",
       "tabbable": null,
       "tooltip": null
      }
     },
     "e675cd536c3c45ed8d0e92078b1ee69f": {
      "model_module": "@jupyter-widgets/controls",
      "model_module_version": "2.0.0",
      "model_name": "HTMLModel",
      "state": {
       "_dom_classes": [],
       "_model_module": "@jupyter-widgets/controls",
       "_model_module_version": "2.0.0",
       "_model_name": "HTMLModel",
       "_view_count": null,
       "_view_module": "@jupyter-widgets/controls",
       "_view_module_version": "2.0.0",
       "_view_name": "HTMLView",
       "description": "",
       "description_allow_html": false,
       "layout": "IPY_MODEL_ca01c722e9fe41e29469c8144c2a33ab",
       "placeholder": "​",
       "style": "IPY_MODEL_742913e79e7241e7b2f1ae9317d343de",
       "tabbable": null,
       "tooltip": null,
       "value": "model.safetensors: 100%"
      }
     },
     "e866a1b0648a41d4b7117352402a5242": {
      "model_module": "@jupyter-widgets/controls",
      "model_module_version": "2.0.0",
      "model_name": "HTMLModel",
      "state": {
       "_dom_classes": [],
       "_model_module": "@jupyter-widgets/controls",
       "_model_module_version": "2.0.0",
       "_model_name": "HTMLModel",
       "_view_count": null,
       "_view_module": "@jupyter-widgets/controls",
       "_view_module_version": "2.0.0",
       "_view_name": "HTMLView",
       "description": "",
       "description_allow_html": false,
       "layout": "IPY_MODEL_42ddcfe48c104286b0ffb0fc93317d1f",
       "placeholder": "​",
       "style": "IPY_MODEL_ff5a81aa31254bb3a777e81d0e6fcdb2",
       "tabbable": null,
       "tooltip": null,
       "value": " 133M/133M [00:01&lt;00:00, 139MB/s]"
      }
     },
     "e92cac0d3127438cbbfb21afae111f79": {
      "model_module": "@jupyter-widgets/controls",
      "model_module_version": "2.0.0",
      "model_name": "ProgressStyleModel",
      "state": {
       "_model_module": "@jupyter-widgets/controls",
       "_model_module_version": "2.0.0",
       "_model_name": "ProgressStyleModel",
       "_view_count": null,
       "_view_module": "@jupyter-widgets/base",
       "_view_module_version": "2.0.0",
       "_view_name": "StyleView",
       "bar_color": null,
       "description_width": ""
      }
     },
     "e9ba290b4bfc4a99a75dc26c776ed342": {
      "model_module": "@jupyter-widgets/base",
      "model_module_version": "2.0.0",
      "model_name": "LayoutModel",
      "state": {
       "_model_module": "@jupyter-widgets/base",
       "_model_module_version": "2.0.0",
       "_model_name": "LayoutModel",
       "_view_count": null,
       "_view_module": "@jupyter-widgets/base",
       "_view_module_version": "2.0.0",
       "_view_name": "LayoutView",
       "align_content": null,
       "align_items": null,
       "align_self": null,
       "border_bottom": null,
       "border_left": null,
       "border_right": null,
       "border_top": null,
       "bottom": null,
       "display": null,
       "flex": null,
       "flex_flow": null,
       "grid_area": null,
       "grid_auto_columns": null,
       "grid_auto_flow": null,
       "grid_auto_rows": null,
       "grid_column": null,
       "grid_gap": null,
       "grid_row": null,
       "grid_template_areas": null,
       "grid_template_columns": null,
       "grid_template_rows": null,
       "height": null,
       "justify_content": null,
       "justify_items": null,
       "left": null,
       "margin": null,
       "max_height": null,
       "max_width": null,
       "min_height": null,
       "min_width": null,
       "object_fit": null,
       "object_position": null,
       "order": null,
       "overflow": null,
       "padding": null,
       "right": null,
       "top": null,
       "visibility": null,
       "width": null
      }
     },
     "ea5ea5c4f20d4a9999754ab0440d86d7": {
      "model_module": "@jupyter-widgets/controls",
      "model_module_version": "2.0.0",
      "model_name": "HTMLModel",
      "state": {
       "_dom_classes": [],
       "_model_module": "@jupyter-widgets/controls",
       "_model_module_version": "2.0.0",
       "_model_name": "HTMLModel",
       "_view_count": null,
       "_view_module": "@jupyter-widgets/controls",
       "_view_module_version": "2.0.0",
       "_view_name": "HTMLView",
       "description": "",
       "description_allow_html": false,
       "layout": "IPY_MODEL_e9ba290b4bfc4a99a75dc26c776ed342",
       "placeholder": "​",
       "style": "IPY_MODEL_ef9392ca74cc4274a8fd166680ce7ffd",
       "tabbable": null,
       "tooltip": null,
       "value": " 615/615 [00:00&lt;00:00, 67.3kB/s]"
      }
     },
     "ee18066b6b9d4463b3f34f8fa2cd50ab": {
      "model_module": "@jupyter-widgets/base",
      "model_module_version": "2.0.0",
      "model_name": "LayoutModel",
      "state": {
       "_model_module": "@jupyter-widgets/base",
       "_model_module_version": "2.0.0",
       "_model_name": "LayoutModel",
       "_view_count": null,
       "_view_module": "@jupyter-widgets/base",
       "_view_module_version": "2.0.0",
       "_view_name": "LayoutView",
       "align_content": null,
       "align_items": null,
       "align_self": null,
       "border_bottom": null,
       "border_left": null,
       "border_right": null,
       "border_top": null,
       "bottom": null,
       "display": null,
       "flex": null,
       "flex_flow": null,
       "grid_area": null,
       "grid_auto_columns": null,
       "grid_auto_flow": null,
       "grid_auto_rows": null,
       "grid_column": null,
       "grid_gap": null,
       "grid_row": null,
       "grid_template_areas": null,
       "grid_template_columns": null,
       "grid_template_rows": null,
       "height": null,
       "justify_content": null,
       "justify_items": null,
       "left": null,
       "margin": null,
       "max_height": null,
       "max_width": null,
       "min_height": null,
       "min_width": null,
       "object_fit": null,
       "object_position": null,
       "order": null,
       "overflow": null,
       "padding": null,
       "right": null,
       "top": null,
       "visibility": null,
       "width": "20px"
      }
     },
     "ef9392ca74cc4274a8fd166680ce7ffd": {
      "model_module": "@jupyter-widgets/controls",
      "model_module_version": "2.0.0",
      "model_name": "HTMLStyleModel",
      "state": {
       "_model_module": "@jupyter-widgets/controls",
       "_model_module_version": "2.0.0",
       "_model_name": "HTMLStyleModel",
       "_view_count": null,
       "_view_module": "@jupyter-widgets/base",
       "_view_module_version": "2.0.0",
       "_view_name": "StyleView",
       "background": null,
       "description_width": "",
       "font_size": null,
       "text_color": null
      }
     },
     "f3731f93528b4640bd30367797065590": {
      "model_module": "@jupyter-widgets/controls",
      "model_module_version": "2.0.0",
      "model_name": "HTMLModel",
      "state": {
       "_dom_classes": [],
       "_model_module": "@jupyter-widgets/controls",
       "_model_module_version": "2.0.0",
       "_model_name": "HTMLModel",
       "_view_count": null,
       "_view_module": "@jupyter-widgets/controls",
       "_view_module_version": "2.0.0",
       "_view_name": "HTMLView",
       "description": "",
       "description_allow_html": false,
       "layout": "IPY_MODEL_6c8b6516cc0b4a509018813447ba6c57",
       "placeholder": "​",
       "style": "IPY_MODEL_f57694e733504f4ca26fcac64e45494b",
       "tabbable": null,
       "tooltip": null,
       "value": " 112/112 [00:00&lt;00:00, 12.7kB/s]"
      }
     },
     "f57694e733504f4ca26fcac64e45494b": {
      "model_module": "@jupyter-widgets/controls",
      "model_module_version": "2.0.0",
      "model_name": "HTMLStyleModel",
      "state": {
       "_model_module": "@jupyter-widgets/controls",
       "_model_module_version": "2.0.0",
       "_model_name": "HTMLStyleModel",
       "_view_count": null,
       "_view_module": "@jupyter-widgets/base",
       "_view_module_version": "2.0.0",
       "_view_name": "StyleView",
       "background": null,
       "description_width": "",
       "font_size": null,
       "text_color": null
      }
     },
     "f806522f567d448e8efb2de33f731c84": {
      "model_module": "@jupyter-widgets/base",
      "model_module_version": "2.0.0",
      "model_name": "LayoutModel",
      "state": {
       "_model_module": "@jupyter-widgets/base",
       "_model_module_version": "2.0.0",
       "_model_name": "LayoutModel",
       "_view_count": null,
       "_view_module": "@jupyter-widgets/base",
       "_view_module_version": "2.0.0",
       "_view_name": "LayoutView",
       "align_content": null,
       "align_items": null,
       "align_self": null,
       "border_bottom": null,
       "border_left": null,
       "border_right": null,
       "border_top": null,
       "bottom": null,
       "display": null,
       "flex": null,
       "flex_flow": null,
       "grid_area": null,
       "grid_auto_columns": null,
       "grid_auto_flow": null,
       "grid_auto_rows": null,
       "grid_column": null,
       "grid_gap": null,
       "grid_row": null,
       "grid_template_areas": null,
       "grid_template_columns": null,
       "grid_template_rows": null,
       "height": null,
       "justify_content": null,
       "justify_items": null,
       "left": null,
       "margin": null,
       "max_height": null,
       "max_width": null,
       "min_height": null,
       "min_width": null,
       "object_fit": null,
       "object_position": null,
       "order": null,
       "overflow": null,
       "padding": null,
       "right": null,
       "top": null,
       "visibility": null,
       "width": null
      }
     },
     "f82bc209a465444bbf6e1b0d397549f2": {
      "model_module": "@jupyter-widgets/controls",
      "model_module_version": "2.0.0",
      "model_name": "HTMLStyleModel",
      "state": {
       "_model_module": "@jupyter-widgets/controls",
       "_model_module_version": "2.0.0",
       "_model_name": "HTMLStyleModel",
       "_view_count": null,
       "_view_module": "@jupyter-widgets/base",
       "_view_module_version": "2.0.0",
       "_view_name": "StyleView",
       "background": null,
       "description_width": "",
       "font_size": null,
       "text_color": null
      }
     },
     "fcd90f233b8e4cbd85865ef138f27dd2": {
      "model_module": "@jupyter-widgets/controls",
      "model_module_version": "2.0.0",
      "model_name": "HBoxModel",
      "state": {
       "_dom_classes": [],
       "_model_module": "@jupyter-widgets/controls",
       "_model_module_version": "2.0.0",
       "_model_name": "HBoxModel",
       "_view_count": null,
       "_view_module": "@jupyter-widgets/controls",
       "_view_module_version": "2.0.0",
       "_view_name": "HBoxView",
       "box_style": "",
       "children": [
        "IPY_MODEL_841a89c0a5554d9ea92dd464f90da7eb",
        "IPY_MODEL_a40e55c8291d4e489a7c825536be238f",
        "IPY_MODEL_beb6e6e195ed454f8c03532036f0989b"
       ],
       "layout": "IPY_MODEL_1b8b878ab5374fb881abb1191f8ea98b",
       "tabbable": null,
       "tooltip": null
      }
     },
     "ff5a81aa31254bb3a777e81d0e6fcdb2": {
      "model_module": "@jupyter-widgets/controls",
      "model_module_version": "2.0.0",
      "model_name": "HTMLStyleModel",
      "state": {
       "_model_module": "@jupyter-widgets/controls",
       "_model_module_version": "2.0.0",
       "_model_name": "HTMLStyleModel",
       "_view_count": null,
       "_view_module": "@jupyter-widgets/base",
       "_view_module_version": "2.0.0",
       "_view_name": "StyleView",
       "background": null,
       "description_width": "",
       "font_size": null,
       "text_color": null
      }
     }
    },
    "version_major": 2,
    "version_minor": 0
   }
  }
 },
 "nbformat": 4,
 "nbformat_minor": 5
}
